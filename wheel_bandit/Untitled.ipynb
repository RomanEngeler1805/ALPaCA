{
 "cells": [
  {
   "cell_type": "code",
   "execution_count": 1,
   "metadata": {},
   "outputs": [],
   "source": [
    "import numpy as np\n",
    "import matplotlib.pyplot as plt"
   ]
  },
  {
   "cell_type": "code",
   "execution_count": 10,
   "metadata": {},
   "outputs": [],
   "source": [
    "file = open('./eval/'+ 'cholesky', 'r')\n",
    "cov = np.loadtxt(file)\n",
    "cov = cov.reshape(64, 64)"
   ]
  },
  {
   "cell_type": "code",
   "execution_count": 13,
   "metadata": {},
   "outputs": [],
   "source": [
    "w,v = np.linalg.eigh(cov)"
   ]
  },
  {
   "cell_type": "code",
   "execution_count": 17,
   "metadata": {},
   "outputs": [
    {
     "name": "stdout",
     "output_type": "stream",
     "text": [
      "0.5719767007820823\n",
      "947704.0669498593\n"
     ]
    }
   ],
   "source": [
    "print(np.min(w))\n",
    "print(np.max(w))"
   ]
  },
  {
   "cell_type": "code",
   "execution_count": 18,
   "metadata": {},
   "outputs": [],
   "source": [
    "L = np.linalg.cholesky(cov)"
   ]
  },
  {
   "cell_type": "code",
   "execution_count": 19,
   "metadata": {},
   "outputs": [
    {
     "name": "stdout",
     "output_type": "stream",
     "text": [
      "[[ 1.79722008  0.          0.         ...  0.          0.\n",
      "   0.        ]\n",
      " [-0.03894904  1.74312449  0.         ...  0.          0.\n",
      "   0.        ]\n",
      " [ 0.02782074 -0.36653516  1.34717407 ...  0.          0.\n",
      "   0.        ]\n",
      " ...\n",
      " [-0.02782074  0.38948246 -0.26460351 ...  1.03972761  0.\n",
      "   0.        ]\n",
      " [-0.0222566   0.32076489 -0.21660838 ... -0.00541981  0.86665197\n",
      "   0.        ]\n",
      " [ 0.0222566  -0.29781759  0.20058298 ...  0.00727217  0.00631559\n",
      "   0.86363189]]\n"
     ]
    }
   ],
   "source": [
    "print(L)"
   ]
  },
  {
   "cell_type": "code",
   "execution_count": null,
   "metadata": {},
   "outputs": [],
   "source": []
  }
 ],
 "metadata": {
  "kernelspec": {
   "display_name": "venv",
   "language": "python",
   "name": "venv"
  },
  "language_info": {
   "codemirror_mode": {
    "name": "ipython",
    "version": 2
   },
   "file_extension": ".py",
   "mimetype": "text/x-python",
   "name": "python",
   "nbconvert_exporter": "python",
   "pygments_lexer": "ipython2",
   "version": "2.7.12"
  }
 },
 "nbformat": 4,
 "nbformat_minor": 2
}
