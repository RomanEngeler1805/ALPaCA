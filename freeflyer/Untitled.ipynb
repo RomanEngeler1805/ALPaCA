{
 "cells": [
  {
   "cell_type": "code",
   "execution_count": 3,
   "metadata": {},
   "outputs": [],
   "source": [
    "import tensorflow as tf\n",
    "import numpy as np"
   ]
  },
  {
   "cell_type": "code",
   "execution_count": 4,
   "metadata": {},
   "outputs": [
    {
     "name": "stdout",
     "output_type": "stream",
     "text": [
      "[[[-3.13106596e-01 -4.08248335e-01  7.07106769e-01  1.87876403e-01\n",
      "    4.47213650e-01]\n",
      "  [-3.13106596e-01 -4.08248335e-01 -7.07106829e-01  1.87876403e-01\n",
      "    4.47213650e-01]\n",
      "  [-3.13106656e-01  8.16496611e-01  2.12977636e-08  1.87876388e-01\n",
      "    4.47213650e-01]\n",
      "  [ 8.33481252e-01  1.07042553e-07  2.66874896e-08  3.24513853e-01\n",
      "    4.47213709e-01]\n",
      "  [ 1.05838865e-01  0.00000000e+00  0.00000000e+00 -8.88143122e-01\n",
      "    4.47213471e-01]]]\n"
     ]
    }
   ],
   "source": [
    "X = np.eye(5)+ 2.* np.ones([5,5])\n",
    "\n",
    "with tf.Session() as sess:\n",
    "    xin = tf.placeholder(shape=[1,5,5], dtype=tf.float32)\n",
    "    \n",
    "    V, U = tf.linalg.eigh(xin)\n",
    "    \n",
    "    print(sess.run(U, feed_dict={xin: X.reshape(-1,5,5)}))"
   ]
  },
  {
   "cell_type": "code",
   "execution_count": null,
   "metadata": {},
   "outputs": [],
   "source": []
  }
 ],
 "metadata": {
  "kernelspec": {
   "display_name": "venv",
   "language": "python",
   "name": "venv"
  },
  "language_info": {
   "codemirror_mode": {
    "name": "ipython",
    "version": 2
   },
   "file_extension": ".py",
   "mimetype": "text/x-python",
   "name": "python",
   "nbconvert_exporter": "python",
   "pygments_lexer": "ipython2",
   "version": "2.7.12"
  }
 },
 "nbformat": 4,
 "nbformat_minor": 2
}
