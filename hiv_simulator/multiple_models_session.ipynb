{
 "cells": [
  {
   "cell_type": "code",
   "execution_count": 85,
   "metadata": {},
   "outputs": [],
   "source": [
    "import tensorflow as tf\n",
    "import numpy as np\n",
    "import os\n",
    "import time"
   ]
  },
  {
   "cell_type": "code",
   "execution_count": 78,
   "metadata": {},
   "outputs": [],
   "source": [
    "class simple_model():\n",
    "    def __init__(self, scope1='model1', scope2='model2', vv=1.):\n",
    "        self.hidden_dim = 4\n",
    "        self.scope1 = scope1\n",
    "        self.scope2 = scope2\n",
    "        self.vv = vv\n",
    "        \n",
    "        self.model = self.create_model()\n",
    "        \n",
    "    def create_model(self):\n",
    "        with tf.variable_scope(self.scope1, reuse=tf.AUTO_REUSE):\n",
    "            self.x = tf.placeholder(shape=[None,1], dtype=tf.float32, name='input')\n",
    "            self.hidden = tf.layers.dense(self.x, units=self.hidden_dim, name='hidden1')\n",
    "        \n",
    "        with tf.variable_scope(self.scope2, reuse=tf.AUTO_REUSE):\n",
    "            self.intermediate = tf.get_variable(name='hidden1',\n",
    "                                                initializer=tf.constant(self.vv, shape=[4,1]))\n",
    "            #tf.layers.dense(self.hidden, units=self.hidden_dim, name='hidden2')\n",
    "         \n",
    "        with tf.variable_scope(self.scope1, reuse=tf.AUTO_REUSE):\n",
    "            self.output = tf.layers.dense(self.intermediate, units=1, name='output')"
   ]
  },
  {
   "cell_type": "code",
   "execution_count": 79,
   "metadata": {},
   "outputs": [],
   "source": [
    "# summary_writer = tf.summary.FileWriter(logdir=os.path.join('./', 'summaries/', time.strftime('%H-%M-%d_%m-%y')),\n",
    "#                                           graph=sess.graph)"
   ]
  },
  {
   "cell_type": "code",
   "execution_count": 87,
   "metadata": {},
   "outputs": [
    {
     "name": "stdout",
     "output_type": "stream",
     "text": [
      "[[-2.2758307]\n",
      " [-2.2758307]\n",
      " [-2.2758307]\n",
      " [-2.2758307]]\n",
      "[[-2.2758307]\n",
      " [-2.2758307]\n",
      " [-2.2758307]\n",
      " [-2.2758307]]\n"
     ]
    }
   ],
   "source": [
    "x = np.array([2., 2.5, 3.]).reshape(-1,1)\n",
    "\n",
    "tf.reset_default_graph()\n",
    "tf.set_random_seed(1234)\n",
    "\n",
    "gpu_options = tf.GPUOptions(per_process_gpu_memory_fraction=0.15)\n",
    "with tf.Session(config=tf.ConfigProto(gpu_options=gpu_options)) as sess:\n",
    "    model2 = simple_model(scope1='model2', scope2='model1', vv=1.)\n",
    "    model1 = simple_model(scope1='model1', scope2='model2', vv=2.)\n",
    "    \n",
    "    summary_writer = tf.summary.FileWriter(logdir=os.path.join('./','summaries2', time.strftime('%H-%M-%d-%s_%m-%y')),\n",
    "                                          graph=sess.graph)\n",
    "    \n",
    "    sess.run(tf.global_variables_initializer())\n",
    "    \n",
    "    hidden = sess.run(model1.output, feed_dict={model1.x: x})\n",
    "    print(hidden)\n",
    "    \n",
    "    hidden = sess.run(model2.output, feed_dict={model2.x: x})\n",
    "    \n",
    "    hidden = sess.run(model1.output, feed_dict={model1.x: x,\n",
    "                                                model2.x: x})\n",
    "    print(hidden)"
   ]
  },
  {
   "cell_type": "code",
   "execution_count": 101,
   "metadata": {},
   "outputs": [],
   "source": [
    "class simple_model():\n",
    "    def __init__(self, scope1='model1', scope2='model2', vv=1.):\n",
    "        self.hidden_dim = 4\n",
    "        self.scope1 = scope1\n",
    "        self.scope2 = scope2\n",
    "        self.vv = vv\n",
    "        \n",
    "        self.build_model = self._build_model()\n",
    "        \n",
    "    def _build_model(self):\n",
    "        self.model_part1 = self.create_model_part1()\n",
    "        self.model_part2 = self.create_model_part2()\n",
    "        self.model_part3 = self.create_model_part3()\n",
    "        \n",
    "    def create_model_part1(self):\n",
    "        with tf.variable_scope(self.scope1, reuse=tf.AUTO_REUSE):\n",
    "            self.x = tf.placeholder(shape=[None,1], dtype=tf.float32, name='input')\n",
    "            self.hidden = tf.layers.dense(self.x, units=self.hidden_dim, name='hidden')\n",
    "        \n",
    "    def create_model_part1(self):\n",
    "        with tf.variable_scope(self.scope2, reuse=tf.AUTO_REUSE):\n",
    "            self.intermediate = tf.get_variable(name='hidden', shape=[4,1])\n",
    "            \n",
    "    def create_model_part1(self):\n",
    "        with tf.variable_scope(self.scope1, reuse=tf.AUTO_REUSE):\n",
    "            self.output = tf.layers.dense(self.intermediate, units=1, name='output')\n"
   ]
  },
  {
   "cell_type": "code",
   "execution_count": 102,
   "metadata": {},
   "outputs": [
    {
     "ename": "AttributeError",
     "evalue": "simple_model instance has no attribute 'intermediate'",
     "output_type": "error",
     "traceback": [
      "\u001b[0;31m-----------------------------------------------------------------------\u001b[0m",
      "\u001b[0;31mAttributeError\u001b[0m                        Traceback (most recent call last)",
      "\u001b[0;32m<ipython-input-102-6130351d9a28>\u001b[0m in \u001b[0;36m<module>\u001b[0;34m()\u001b[0m\n\u001b[1;32m      7\u001b[0m \u001b[0;32mwith\u001b[0m \u001b[0mtf\u001b[0m\u001b[0;34m.\u001b[0m\u001b[0mSession\u001b[0m\u001b[0;34m(\u001b[0m\u001b[0mconfig\u001b[0m\u001b[0;34m=\u001b[0m\u001b[0mtf\u001b[0m\u001b[0;34m.\u001b[0m\u001b[0mConfigProto\u001b[0m\u001b[0;34m(\u001b[0m\u001b[0mgpu_options\u001b[0m\u001b[0;34m=\u001b[0m\u001b[0mgpu_options\u001b[0m\u001b[0;34m)\u001b[0m\u001b[0;34m)\u001b[0m \u001b[0;32mas\u001b[0m \u001b[0msess\u001b[0m\u001b[0;34m:\u001b[0m\u001b[0;34m\u001b[0m\u001b[0m\n\u001b[1;32m      8\u001b[0m     \u001b[0;31m#model2 = simple_model(scope1='model2', scope2='model1', vv=1.)\u001b[0m\u001b[0;34m\u001b[0m\u001b[0;34m\u001b[0m\u001b[0m\n\u001b[0;32m----> 9\u001b[0;31m     \u001b[0mmodel1\u001b[0m \u001b[0;34m=\u001b[0m \u001b[0msimple_model\u001b[0m\u001b[0;34m(\u001b[0m\u001b[0mscope1\u001b[0m\u001b[0;34m=\u001b[0m\u001b[0;34m'model1'\u001b[0m\u001b[0;34m,\u001b[0m \u001b[0mscope2\u001b[0m\u001b[0;34m=\u001b[0m\u001b[0;34m'model2'\u001b[0m\u001b[0;34m,\u001b[0m \u001b[0mvv\u001b[0m\u001b[0;34m=\u001b[0m\u001b[0;36m2.\u001b[0m\u001b[0;34m)\u001b[0m\u001b[0;34m\u001b[0m\u001b[0m\n\u001b[0m\u001b[1;32m     10\u001b[0m \u001b[0;34m\u001b[0m\u001b[0m\n\u001b[1;32m     11\u001b[0m     summary_writer = tf.summary.FileWriter(logdir=os.path.join('./','summaries2', time.strftime('%H-%M-%d-%s_%m-%y')),\n",
      "\u001b[0;32m<ipython-input-101-2c4f3f4ac58b>\u001b[0m in \u001b[0;36m__init__\u001b[0;34m(self, scope1, scope2, vv)\u001b[0m\n\u001b[1;32m      6\u001b[0m         \u001b[0mself\u001b[0m\u001b[0;34m.\u001b[0m\u001b[0mvv\u001b[0m \u001b[0;34m=\u001b[0m \u001b[0mvv\u001b[0m\u001b[0;34m\u001b[0m\u001b[0m\n\u001b[1;32m      7\u001b[0m \u001b[0;34m\u001b[0m\u001b[0m\n\u001b[0;32m----> 8\u001b[0;31m         \u001b[0mself\u001b[0m\u001b[0;34m.\u001b[0m\u001b[0mbuild_model\u001b[0m \u001b[0;34m=\u001b[0m \u001b[0mself\u001b[0m\u001b[0;34m.\u001b[0m\u001b[0m_build_model\u001b[0m\u001b[0;34m(\u001b[0m\u001b[0;34m)\u001b[0m\u001b[0;34m\u001b[0m\u001b[0m\n\u001b[0m\u001b[1;32m      9\u001b[0m \u001b[0;34m\u001b[0m\u001b[0m\n\u001b[1;32m     10\u001b[0m     \u001b[0;32mdef\u001b[0m \u001b[0m_build_model\u001b[0m\u001b[0;34m(\u001b[0m\u001b[0mself\u001b[0m\u001b[0;34m)\u001b[0m\u001b[0;34m:\u001b[0m\u001b[0;34m\u001b[0m\u001b[0m\n",
      "\u001b[0;32m<ipython-input-101-2c4f3f4ac58b>\u001b[0m in \u001b[0;36m_build_model\u001b[0;34m(self)\u001b[0m\n\u001b[1;32m      9\u001b[0m \u001b[0;34m\u001b[0m\u001b[0m\n\u001b[1;32m     10\u001b[0m     \u001b[0;32mdef\u001b[0m \u001b[0m_build_model\u001b[0m\u001b[0;34m(\u001b[0m\u001b[0mself\u001b[0m\u001b[0;34m)\u001b[0m\u001b[0;34m:\u001b[0m\u001b[0;34m\u001b[0m\u001b[0m\n\u001b[0;32m---> 11\u001b[0;31m         \u001b[0mself\u001b[0m\u001b[0;34m.\u001b[0m\u001b[0mmodel_part1\u001b[0m \u001b[0;34m=\u001b[0m \u001b[0mself\u001b[0m\u001b[0;34m.\u001b[0m\u001b[0mcreate_model_part1\u001b[0m\u001b[0;34m(\u001b[0m\u001b[0;34m)\u001b[0m\u001b[0;34m\u001b[0m\u001b[0m\n\u001b[0m\u001b[1;32m     12\u001b[0m         \u001b[0mself\u001b[0m\u001b[0;34m.\u001b[0m\u001b[0mmodel_part2\u001b[0m \u001b[0;34m=\u001b[0m \u001b[0mself\u001b[0m\u001b[0;34m.\u001b[0m\u001b[0mcreate_model_part2\u001b[0m\u001b[0;34m(\u001b[0m\u001b[0;34m)\u001b[0m\u001b[0;34m\u001b[0m\u001b[0m\n\u001b[1;32m     13\u001b[0m         \u001b[0mself\u001b[0m\u001b[0;34m.\u001b[0m\u001b[0mmodel_part3\u001b[0m \u001b[0;34m=\u001b[0m \u001b[0mself\u001b[0m\u001b[0;34m.\u001b[0m\u001b[0mcreate_model_part3\u001b[0m\u001b[0;34m(\u001b[0m\u001b[0;34m)\u001b[0m\u001b[0;34m\u001b[0m\u001b[0m\n",
      "\u001b[0;32m<ipython-input-101-2c4f3f4ac58b>\u001b[0m in \u001b[0;36mcreate_model_part1\u001b[0;34m(self)\u001b[0m\n\u001b[1;32m     24\u001b[0m     \u001b[0;32mdef\u001b[0m \u001b[0mcreate_model_part1\u001b[0m\u001b[0;34m(\u001b[0m\u001b[0mself\u001b[0m\u001b[0;34m)\u001b[0m\u001b[0;34m:\u001b[0m\u001b[0;34m\u001b[0m\u001b[0m\n\u001b[1;32m     25\u001b[0m         \u001b[0;32mwith\u001b[0m \u001b[0mtf\u001b[0m\u001b[0;34m.\u001b[0m\u001b[0mvariable_scope\u001b[0m\u001b[0;34m(\u001b[0m\u001b[0mself\u001b[0m\u001b[0;34m.\u001b[0m\u001b[0mscope1\u001b[0m\u001b[0;34m,\u001b[0m \u001b[0mreuse\u001b[0m\u001b[0;34m=\u001b[0m\u001b[0mtf\u001b[0m\u001b[0;34m.\u001b[0m\u001b[0mAUTO_REUSE\u001b[0m\u001b[0;34m)\u001b[0m\u001b[0;34m:\u001b[0m\u001b[0;34m\u001b[0m\u001b[0m\n\u001b[0;32m---> 26\u001b[0;31m             \u001b[0mself\u001b[0m\u001b[0;34m.\u001b[0m\u001b[0moutput\u001b[0m \u001b[0;34m=\u001b[0m \u001b[0mtf\u001b[0m\u001b[0;34m.\u001b[0m\u001b[0mlayers\u001b[0m\u001b[0;34m.\u001b[0m\u001b[0mdense\u001b[0m\u001b[0;34m(\u001b[0m\u001b[0mself\u001b[0m\u001b[0;34m.\u001b[0m\u001b[0mintermediate\u001b[0m\u001b[0;34m,\u001b[0m \u001b[0munits\u001b[0m\u001b[0;34m=\u001b[0m\u001b[0;36m1\u001b[0m\u001b[0;34m,\u001b[0m \u001b[0mname\u001b[0m\u001b[0;34m=\u001b[0m\u001b[0;34m'output'\u001b[0m\u001b[0;34m)\u001b[0m\u001b[0;34m\u001b[0m\u001b[0m\n\u001b[0m",
      "\u001b[0;31mAttributeError\u001b[0m: simple_model instance has no attribute 'intermediate'"
     ]
    }
   ],
   "source": [
    "x = np.array([2., 2.5, 3.]).reshape(-1,1)\n",
    "\n",
    "tf.reset_default_graph()\n",
    "tf.set_random_seed(1234)\n",
    "\n",
    "gpu_options = tf.GPUOptions(per_process_gpu_memory_fraction=0.15)\n",
    "with tf.Session(config=tf.ConfigProto(gpu_options=gpu_options)) as sess:\n",
    "    #model2 = simple_model(scope1='model2', scope2='model1', vv=1.)\n",
    "    model1 = simple_model(scope1='model1', scope2='model2', vv=2.)\n",
    "    \n",
    "    summary_writer = tf.summary.FileWriter(logdir=os.path.join('./','summaries2', time.strftime('%H-%M-%d-%s_%m-%y')),\n",
    "                                          graph=sess.graph)\n",
    "    \n",
    "    sess.run(tf.global_variables_initializer())\n",
    "    \n",
    "    hidden = sess.run(model1.output, feed_dict={model1.x: x})\n",
    "    print(hidden)\n",
    "    "
   ]
  },
  {
   "cell_type": "code",
   "execution_count": null,
   "metadata": {},
   "outputs": [],
   "source": []
  }
 ],
 "metadata": {
  "kernelspec": {
   "display_name": "venv",
   "language": "python",
   "name": "venv"
  },
  "language_info": {
   "codemirror_mode": {
    "name": "ipython",
    "version": 2
   },
   "file_extension": ".py",
   "mimetype": "text/x-python",
   "name": "python",
   "nbconvert_exporter": "python",
   "pygments_lexer": "ipython2",
   "version": "2.7.12"
  }
 },
 "nbformat": 4,
 "nbformat_minor": 2
}
