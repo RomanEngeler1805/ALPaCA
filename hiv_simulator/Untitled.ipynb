{
 "cells": [
  {
   "cell_type": "code",
   "execution_count": 1,
   "metadata": {},
   "outputs": [
    {
     "name": "stderr",
     "output_type": "stream",
     "text": [
      "/usr/local/lib/python2.7/dist-packages/h5py/__init__.py:34: FutureWarning: Conversion of the second argument of issubdtype from `float` to `np.floating` is deprecated. In future, it will be treated as `np.float64 == np.dtype(float).type`.\n",
      "  from ._conv import register_converters as _register_converters\n"
     ]
    }
   ],
   "source": [
    "import matplotlib.pyplot as plt\n",
    "import numpy as np\n",
    "from hiv import HIVTreatment\n",
    "import tensorflow as tf"
   ]
  },
  {
   "cell_type": "code",
   "execution_count": 4,
   "metadata": {},
   "outputs": [
    {
     "name": "stdout",
     "output_type": "stream",
     "text": [
      "[[1. 1. 1. 1.]\n",
      " [1. 1. 1. 1.]\n",
      " [1. 1. 1. 3.]\n",
      " [1. 1. 1. 1.]]\n"
     ]
    },
    {
     "data": {
      "image/png": "[encoded data removed]",
      "text/plain": [
       "<matplotlib.figure.Figure at 0x7f49a9f6ddd0>"
      ]
     },
     "metadata": {
      "needs_background": "light"
     },
     "output_type": "display_data"
    }
   ],
   "source": [
    "Arr = np.ones([4, 4])\n",
    "Arr[2 ,3] = 3\n",
    "\n",
    "print(Arr)\n",
    "\n",
    "plt.figure()\n",
    "plt.imshow(Arr)\n",
    "plt.scatter(1, 2)\n",
    "plt.show()"
   ]
  },
  {
   "cell_type": "markdown",
   "metadata": {},
   "source": [
    "### Hidden parameter"
   ]
  },
  {
   "cell_type": "code",
   "execution_count": 2,
   "metadata": {
    "collapsed": true
   },
   "outputs": [],
   "source": [
    "hh = HIVTreatment()"
   ]
  },
  {
   "cell_type": "code",
   "execution_count": 3,
   "metadata": {
    "collapsed": true
   },
   "outputs": [
    {
     "name": "stdout",
     "output_type": "stream",
     "text": [
      "('p_lambda1', 'p_lambda2', 'p_k1', 'p_k2', 'p_f', 'p_m1', 'p_m2', 'p_lambdaE', 'p_bE', 'p_Kb', 'p_d_E', 'p_Kd')\n"
     ]
    }
   ],
   "source": [
    "perturb_params = ('p_lambda1','p_lambda2','p_k1','p_k2','p_f', \\\n",
    "            'p_m1','p_m2','p_lambdaE','p_bE','p_Kb','p_d_E','p_Kd')\n",
    "print(perturb_params)"
   ]
  },
  {
   "cell_type": "code",
   "execution_count": 4,
   "metadata": {
    "collapsed": true
   },
   "outputs": [],
   "source": [
    "new_dict = {key: value for (key, value) in zip(perturb_params, np.random.normal(size=12))}"
   ]
  },
  {
   "cell_type": "code",
   "execution_count": 11,
   "metadata": {
    "collapsed": true
   },
   "outputs": [
    {
     "name": "stdout",
     "output_type": "stream",
     "text": [
      "(array([5.21370912, 0.69856711, 4.07718822, 1.65906929, 4.80563199,\n",
      "       1.37862914]), 1.752079909325808, 0)\n",
      "(array([5.21370912, 0.69856711, 4.07718822, 1.65906929, 4.80563199,\n",
      "       1.37862914]), 1.752079909325808, 0)\n",
      "(array([5.21370912, 0.69856711, 4.07718822, 1.65906929, 4.80563199,\n",
      "       1.37862914]), 1.752079909325808, 0)\n",
      "(array([5.21370912, 0.69856711, 4.07718822, 1.65906929, 4.80563199,\n",
      "       1.37862914]), 1.752079909325808, 0)\n",
      "(array([5.21370912, 0.69856711, 4.07718822, 1.65906929, 4.80563199,\n",
      "       1.37862914]), 1.752079909325808, 0)\n",
      "(array([5.21370912, 0.69856711, 4.07718822, 1.65906929, 4.80563199,\n",
      "       1.37862914]), 1.752079909325808, 0)\n",
      "(array([5.21370912, 0.69856711, 4.07718822, 1.65906929, 4.80563199,\n",
      "       1.37862914]), 1.752079909325808, 0)\n",
      "(array([5.21370912, 0.69856711, 4.07718822, 1.65906929, 4.80563199,\n",
      "       1.37862914]), 1.752079909325808, 0)\n",
      "(array([5.21370912, 0.69856711, 4.07718822, 1.65906929, 4.80563199,\n",
      "       1.37862914]), 1.752079909325808, 0)\n",
      "(array([5.21370912, 0.69856711, 4.07718822, 1.65906929, 4.80563199,\n",
      "       1.37862914]), 1.752079909325808, 0)\n"
     ]
    }
   ],
   "source": [
    "for i in range(10):\n",
    "    hh.reset()\n",
    "    print(hh.step(0, perturb_params=False))"
   ]
  },
  {
   "cell_type": "code",
   "execution_count": 12,
   "metadata": {
    "collapsed": true
   },
   "outputs": [
    {
     "name": "stdout",
     "output_type": "stream",
     "text": [
      "(array([5.24626583, 0.9347896 , 3.84900187, 1.68405196, 4.58193409,\n",
      "       1.44635492]), 2.412940629367211, 0)\n",
      "(array([5.24197466, 0.91128916, 3.8927032 , 1.6443446 , 4.62443424,\n",
      "       1.32318117]), 1.6835087079116124, 0)\n",
      "(array([5.25634816, 0.93127388, 3.93407224, 1.73855814, 4.66499436,\n",
      "       1.40528917]), 2.0802901154355022, 0)\n",
      "(array([5.23218544, 0.67535869, 4.05479776, 1.62017143, 4.78305705,\n",
      "       1.26525579]), 1.235040451542019, 0)\n",
      "(array([5.24813149, 0.76536876, 3.96710744, 1.68943887, 4.69717633,\n",
      "       1.25503939]), 1.3010948469905703, 0)\n",
      "(array([5.15129831, 0.46554086, 4.29946852, 1.68787205, 5.02568068,\n",
      "       1.41843811]), 1.5599102978860047, 0)\n",
      "(array([5.23794331, 0.7359974 , 4.02605722, 1.6675239 , 4.75496312,\n",
      "       1.29376388]), 1.3980120428951774, 0)\n",
      "(array([5.22968137, 0.8706863 , 3.86014244, 1.64735858, 4.59297052,\n",
      "       1.35396554]), 1.8675412276453305, 0)\n",
      "(array([5.18141349, 0.67935443, 4.1632134 , 1.66956516, 4.89090026,\n",
      "       1.3643187 ]), 1.5359041949572703, 0)\n",
      "(array([5.19756873, 0.72766881, 4.07833022, 1.69543691, 4.80733906,\n",
      "       1.35101824]), 1.60226580802076, 0)\n"
     ]
    }
   ],
   "source": [
    "for i in range(10):\n",
    "    hh.reset()\n",
    "    print(hh.step(0, perturb_params=True))"
   ]
  },
  {
   "cell_type": "markdown",
   "metadata": {},
   "source": [
    "### HIdden parameter analysis"
   ]
  },
  {
   "cell_type": "code",
   "execution_count": 3,
   "metadata": {
    "collapsed": true
   },
   "outputs": [],
   "source": [
    "import pickle\n",
    "with open('./'+'hiv'+'_preset_hidden_params','r') as f:\n",
    "    preset_parameters = pickle.load(f)"
   ]
  },
  {
   "cell_type": "code",
   "execution_count": 8,
   "metadata": {
    "collapsed": true
   },
   "outputs": [],
   "source": [
    "parr = np.zeros([6, 12])\n",
    "\n",
    "for i in range(6):\n",
    "    pp = preset_parameters[i]\n",
    "    \n",
    "    for j, key in enumerate(pp):\n",
    "        parr[i,j] = pp[key]"
   ]
  },
  {
   "cell_type": "code",
   "execution_count": 9,
   "metadata": {
    "collapsed": true
   },
   "outputs": [
    {
     "data": {
      "image/png": "[encoded data removed]",
      "text/plain": [
       "<matplotlib.figure.Figure at 0x7fe50ce296d0>"
      ]
     },
     "metadata": {
      "needs_background": "light"
     },
     "output_type": "display_data"
    },
    {
     "data": {
      "image/png": "[encoded data removed]",
      "text/plain": [
       "<matplotlib.figure.Figure at 0x7fe50ca21c50>"
      ]
     },
     "metadata": {
      "needs_background": "light"
     },
     "output_type": "display_data"
    },
    {
     "data": {
      "image/png": "[encoded data removed]",
      "text/plain": [
       "<matplotlib.figure.Figure at 0x7fe50cb926d0>"
      ]
     },
     "metadata": {
      "needs_background": "light"
     },
     "output_type": "display_data"
    },
    {
     "data": {
      "image/png": "[encoded data removed]",
      "text/plain": [
       "<matplotlib.figure.Figure at 0x7fe5289db650>"
      ]
     },
     "metadata": {
      "needs_background": "light"
     },
     "output_type": "display_data"
    },
    {
     "data": {
      "image/png": "[encoded data removed]",
      "text/plain": [
       "<matplotlib.figure.Figure at 0x7fe50cc20e10>"
      ]
     },
     "metadata": {
      "needs_background": "light"
     },
     "output_type": "display_data"
    },
    {
     "data": {
      "image/png": "[encoded data removed]",
      "text/plain": [
       "<matplotlib.figure.Figure at 0x7fe50cc9f310>"
      ]
     },
     "metadata": {
      "needs_background": "light"
     },
     "output_type": "display_data"
    },
    {
     "data": {
      "image/png": "[encoded data removed]",
      "text/plain": [
       "<matplotlib.figure.Figure at 0x7fe50c6c2950>"
      ]
     },
     "metadata": {
      "needs_background": "light"
     },
     "output_type": "display_data"
    },
    {
     "data": {
      "image/png": "[encoded data removed]",
      "text/plain": [
       "<matplotlib.figure.Figure at 0x7fe50c615e10>"
      ]
     },
     "metadata": {
      "needs_background": "light"
     },
     "output_type": "display_data"
    },
    {
     "data": {
      "image/png": "[encoded data removed]",
      "text/plain": [
       "<matplotlib.figure.Figure at 0x7fe50c572910>"
      ]
     },
     "metadata": {
      "needs_background": "light"
     },
     "output_type": "display_data"
    },
    {
     "data": {
      "image/png": "[encoded data removed]",
      "text/plain": [
       "<matplotlib.figure.Figure at 0x7fe50cc29550>"
      ]
     },
     "metadata": {
      "needs_background": "light"
     },
     "output_type": "display_data"
    },
    {
     "data": {
      "image/png": "[encoded data removed]",
      "text/plain": [
       "<matplotlib.figure.Figure at 0x7fe50c349d10>"
      ]
     },
     "metadata": {
      "needs_background": "light"
     },
     "output_type": "display_data"
    },
    {
     "data": {
      "image/png": "[encoded data removed]",
      "text/plain": [
       "<matplotlib.figure.Figure at 0x7fe50c246790>"
      ]
     },
     "metadata": {
      "needs_background": "light"
     },
     "output_type": "display_data"
    }
   ],
   "source": [
    "for j in range(12):\n",
    "    plt.figure()\n",
    "    plt.hist(parr[:,j])\n",
    "    plt.show()"
   ]
  },
  {
   "cell_type": "markdown",
   "metadata": {},
   "source": [
    "### Simple loop over an array"
   ]
  },
  {
   "cell_type": "code",
   "execution_count": 173,
   "metadata": {},
   "outputs": [
    {
     "name": "stdout",
     "output_type": "stream",
     "text": [
      "[ 1.  3.  6. 10.]\n"
     ]
    }
   ],
   "source": [
    "gpu_options = tf.GPUOptions(per_process_gpu_memory_fraction=0.15)\n",
    "\n",
    "class test_iterate():\n",
    "\n",
    "        \n",
    "    def __init__(self):\n",
    "        self.iter = 0\n",
    "        self.x = tf.placeholder(shape=[None], dtype=tf.float32)\n",
    "        self.w = tf.get_variable(initializer=tf.constant(1.), name='wt')\n",
    "        \n",
    "        self.transform = tf.scan(self._transform,\n",
    "                                 elems=(self.x),\n",
    "                                 initializer=tf.zeros(1.))\n",
    "        # initializer is required, otherwise the first element is used as initializer\n",
    "        # and the loop starts 1, ..., N-1 (loosing 1 element!!!)\n",
    "        \n",
    "    def _transform(self, xold, xin):\n",
    "        x = xold+ xin\n",
    "        return x\n",
    "        \n",
    "tf.reset_default_graph()   \n",
    "with tf.Session(config=tf.ConfigProto(gpu_options=gpu_options)) as sess:\n",
    "    test_inst = test_iterate()\n",
    "    sess.run(tf.global_variables_initializer())\n",
    "    \n",
    "    xx = 1+np.arange(4)#np.zeros(3)\n",
    "    \n",
    "    print(sess.run(test_inst.transform, feed_dict={test_inst.x: xx}))"
   ]
  },
  {
   "cell_type": "markdown",
   "metadata": {},
   "source": [
    "### Calculating Gradients"
   ]
  },
  {
   "cell_type": "code",
   "execution_count": null,
   "metadata": {},
   "outputs": [],
   "source": [
    "import numpy as np\n",
    "import tensorflow as tf\n",
    "\n",
    "gpu_options = tf.GPUOptions(per_process_gpu_memory_fraction=0.15)\n",
    "#tf.enable_eager_execution()\n",
    "\n",
    "dim = 10\n",
    "\n",
    "class test_iterate():\n",
    "\n",
    "        \n",
    "    def __init__(self):\n",
    "        self.iter = 0\n",
    "        # x\n",
    "        self.x = tf.placeholder(shape=[None, 1], dtype=tf.float32)\n",
    "        # weihts\n",
    "        self.w1 = tf.get_variable(initializer=tf.ones(1), name='w1')\n",
    "        self.w2 = tf.get_variable(initializer=tf.ones(1), name='w2')\n",
    "        \n",
    "        self.phi = tf.einsum('bi,i->b', self.x, self.w1)\n",
    "        \n",
    "        self.transform = tf.scan(self._transform,\n",
    "                                 elems=(self.phi, self.w2),\n",
    "                                 infer_shape=False)\n",
    "        \n",
    "        phi, w = self.transform\n",
    "\n",
    "        self.w = w[-1]\n",
    "        \n",
    "        self.loss = tf.square(tf.zeros(1)- self.w)\n",
    "        \n",
    "        # Create an optimizer.\n",
    "        opt = tf.train.GradientDescentOptimizer(learning_rate=0.1)\n",
    "        # Compute the gradients for a list of variables.\n",
    "        self.grads_and_vars = opt.compute_gradients(self.loss)\n",
    "        # Ask the optimizer to apply the capped gradients.\n",
    "        self.descent = opt.apply_gradients(self.grads_and_vars)\n",
    "\n",
    "    # fn(previous_output, current_input):\n",
    "    def _transform(self, xprev, xin):\n",
    "        phi, w = xprev\n",
    "        w *= phi\n",
    "        return (phi,w)\n",
    "\n",
    "# -------------------------------------------\n",
    "tf.reset_default_graph()\n",
    "        \n",
    "with tf.Session(config=tf.ConfigProto(gpu_options=gpu_options)) as sess:\n",
    "    test_inst = test_iterate()\n",
    "    sess.run(tf.global_variables_initializer())\n",
    "    \n",
    "    print(sess.run(test_inst.w2))\n",
    "    \n",
    "    xx = 2.*np.ones([dim, 1])\n",
    "    \n",
    "    _, out, w, loss = sess.run([test_inst.descent,\n",
    "                          test_inst.grads_and_vars,\n",
    "                          test_inst.w,\n",
    "                        test_inst.loss],\n",
    "                   feed_dict={test_inst.x: xx})\n",
    "    \n",
    "    print('Loss: '+ str(loss))\n",
    "    print(np.square(512.-0.))\n",
    "    print(w)\n",
    "    print(sess.run(test_inst.w2))"
   ]
  },
  {
   "cell_type": "markdown",
   "metadata": {},
   "source": [
    "### Conditioning"
   ]
  },
  {
   "cell_type": "code",
   "execution_count": 31,
   "metadata": {},
   "outputs": [
    {
     "name": "stdout",
     "output_type": "stream",
     "text": [
      "[5.]\n",
      "14.0\n",
      "[[14. 12.]\n",
      " [14. 12.]]\n"
     ]
    }
   ],
   "source": [
    "gpu_options = tf.GPUOptions(per_process_gpu_memory_fraction=0.15)\n",
    "\n",
    "class test_iterate():\n",
    "\n",
    "    def __init__(self):\n",
    "        self.iter = tf.constant(0)\n",
    "        self.x = tf.placeholder(shape=[None], dtype=tf.float32)\n",
    "        self.y = tf.placeholder(shape=[None, 2], dtype=tf.float32)\n",
    "        self.w = tf.get_variable(initializer=tf.constant([5.]), name='wt')\n",
    "        self.Lt = tf.get_variable(initializer=tf.constant([[5., 3.], [5., 3.]]), name='Lt')\n",
    "        \n",
    "        _, _, w, L = tf.cond(self.iter > tf.constant(0),\n",
    "                            lambda:(tf.ones([2, 1]),\n",
    "                                    tf.ones([1, 2]),\n",
    "                                    tf.reshape(self.w, [1, 1]),\n",
    "                                    tf.reshape(self.Lt, [1, 2, 2])),\n",
    "                            lambda:tf.scan(self._transform,\n",
    "                                           elems=(self.x,\n",
    "                                                  self.y, \n",
    "                                                  self.w,\n",
    "                                                  tf.reshape(self.Lt, [1, 2, 2]))))\n",
    "        \n",
    "        self.w_back = w[-1]\n",
    "        self.L_back = L[-1]\n",
    "        \n",
    "    def _transform(self, x, xnew):\n",
    "        (x1,x2,w,L) = x\n",
    "        x1+=1\n",
    "        x2+=1\n",
    "        w+=1\n",
    "        L+=1\n",
    "        return (x1,x2,w,L)\n",
    "        \n",
    "tf.reset_default_graph()\n",
    "        \n",
    "with tf.Session(config=tf.ConfigProto(gpu_options=gpu_options)) as sess:\n",
    "    test_inst = test_iterate()\n",
    "    sess.run(tf.global_variables_initializer())\n",
    "    \n",
    "    print(sess.run(test_inst.w))\n",
    "    \n",
    "    xx = np.arange(10)\n",
    "    yy = np.zeros([10, 2])\n",
    "    \n",
    "    w,L = sess.run([test_inst.w_back, test_inst.L_back],\n",
    "                   feed_dict={test_inst.x: xx,\n",
    "                              test_inst.y: yy})\n",
    "    print(w)\n",
    "    print(L)\n",
    " "
   ]
  },
  {
   "cell_type": "markdown",
   "metadata": {},
   "source": [
    "### QNetwork test"
   ]
  },
  {
   "cell_type": "code",
   "execution_count": 2,
   "metadata": {},
   "outputs": [
    {
     "name": "stderr",
     "output_type": "stream",
     "text": [
      "/usr/local/lib/python2.7/dist-packages/h5py/__init__.py:34: FutureWarning: Conversion of the second argument of issubdtype from `float` to `np.floating` is deprecated. In future, it will be treated as `np.float64 == np.dtype(float).type`.\n",
      "  from ._conv import register_converters as _register_converters\n"
     ]
    }
   ],
   "source": [
    "import sys\n",
    "import os\n",
    "os.environ['TF_CPP_MIN_LOG_LEVEL'] = '3'\n",
    "\n",
    "import tensorflow as tf\n",
    "tf.random.set_random_seed(1234)\n",
    "import numpy as np\n",
    "\n",
    "%load_ext autoreload\n",
    "%autoreload 1\n",
    "\n",
    "%aimport QNetwork2\n"
   ]
  },
  {
   "cell_type": "code",
   "execution_count": 13,
   "metadata": {},
   "outputs": [
    {
     "name": "stdout",
     "output_type": "stream",
     "text": [
      "INFO:tensorflow:Summary name /grad/hist/QNetwork/latent/fully_connected/weights:0 is illegal; using grad/hist/QNetwork/latent/fully_connected/weights_0 instead.\n",
      "INFO:tensorflow:Summary name /grad/hist/QNetwork/latent/fully_connected/biases:0 is illegal; using grad/hist/QNetwork/latent/fully_connected/biases_0 instead.\n",
      "INFO:tensorflow:Summary name /grad/hist/QNetwork/latent/LayerNorm/beta:0 is illegal; using grad/hist/QNetwork/latent/LayerNorm/beta_0 instead.\n",
      "INFO:tensorflow:Summary name /grad/hist/QNetwork/latent/LayerNorm/gamma:0 is illegal; using grad/hist/QNetwork/latent/LayerNorm/gamma_0 instead.\n",
      "INFO:tensorflow:Summary name /grad/hist/QNetwork/latent/fully_connected_1/weights:0 is illegal; using grad/hist/QNetwork/latent/fully_connected_1/weights_0 instead.\n",
      "INFO:tensorflow:Summary name /grad/hist/QNetwork/latent/fully_connected_1/biases:0 is illegal; using grad/hist/QNetwork/latent/fully_connected_1/biases_0 instead.\n",
      "INFO:tensorflow:Summary name /grad/hist/QNetwork/latent/LayerNorm_1/beta:0 is illegal; using grad/hist/QNetwork/latent/LayerNorm_1/beta_0 instead.\n",
      "INFO:tensorflow:Summary name /grad/hist/QNetwork/latent/LayerNorm_1/gamma:0 is illegal; using grad/hist/QNetwork/latent/LayerNorm_1/gamma_0 instead.\n",
      "INFO:tensorflow:Summary name /grad/hist/QNetwork/latent/fully_connected_2/weights:0 is illegal; using grad/hist/QNetwork/latent/fully_connected_2/weights_0 instead.\n",
      "INFO:tensorflow:Summary name /grad/hist/QNetwork/latent/fully_connected_2/biases:0 is illegal; using grad/hist/QNetwork/latent/fully_connected_2/biases_0 instead.\n",
      "INFO:tensorflow:Summary name /grad/hist/QNetwork/latent/LayerNorm_2/beta:0 is illegal; using grad/hist/QNetwork/latent/LayerNorm_2/beta_0 instead.\n",
      "INFO:tensorflow:Summary name /grad/hist/QNetwork/latent/LayerNorm_2/gamma:0 is illegal; using grad/hist/QNetwork/latent/LayerNorm_2/gamma_0 instead.\n",
      "INFO:tensorflow:Summary name /grad/hist/QNetwork/latent/fully_connected_3/weights:0 is illegal; using grad/hist/QNetwork/latent/fully_connected_3/weights_0 instead.\n",
      "INFO:tensorflow:Summary name /grad/hist/QNetwork/latent/fully_connected_3/biases:0 is illegal; using grad/hist/QNetwork/latent/fully_connected_3/biases_0 instead.\n",
      "INFO:tensorflow:Summary name /grad/hist/QNetwork/w0_bar:0 is illegal; using grad/hist/QNetwork/w0_bar_0 instead.\n",
      "INFO:tensorflow:Summary name /grad/hist/QNetwork/L0_asym:0 is illegal; using grad/hist/QNetwork/L0_asym_0 instead.\n",
      "INFO:tensorflow:Summary name /weight/hist/QNetwork/latent/fully_connected/weights:0 is illegal; using weight/hist/QNetwork/latent/fully_connected/weights_0 instead.\n",
      "INFO:tensorflow:Summary name /weight/hist/QNetwork/latent/fully_connected/biases:0 is illegal; using weight/hist/QNetwork/latent/fully_connected/biases_0 instead.\n",
      "INFO:tensorflow:Summary name /weight/hist/QNetwork/latent/LayerNorm/beta:0 is illegal; using weight/hist/QNetwork/latent/LayerNorm/beta_0 instead.\n",
      "INFO:tensorflow:Summary name /weight/hist/QNetwork/latent/LayerNorm/gamma:0 is illegal; using weight/hist/QNetwork/latent/LayerNorm/gamma_0 instead.\n",
      "INFO:tensorflow:Summary name /weight/hist/QNetwork/latent/fully_connected_1/weights:0 is illegal; using weight/hist/QNetwork/latent/fully_connected_1/weights_0 instead.\n",
      "INFO:tensorflow:Summary name /weight/hist/QNetwork/latent/fully_connected_1/biases:0 is illegal; using weight/hist/QNetwork/latent/fully_connected_1/biases_0 instead.\n",
      "INFO:tensorflow:Summary name /weight/hist/QNetwork/latent/LayerNorm_1/beta:0 is illegal; using weight/hist/QNetwork/latent/LayerNorm_1/beta_0 instead.\n",
      "INFO:tensorflow:Summary name /weight/hist/QNetwork/latent/LayerNorm_1/gamma:0 is illegal; using weight/hist/QNetwork/latent/LayerNorm_1/gamma_0 instead.\n",
      "INFO:tensorflow:Summary name /weight/hist/QNetwork/latent/fully_connected_2/weights:0 is illegal; using weight/hist/QNetwork/latent/fully_connected_2/weights_0 instead.\n",
      "INFO:tensorflow:Summary name /weight/hist/QNetwork/latent/fully_connected_2/biases:0 is illegal; using weight/hist/QNetwork/latent/fully_connected_2/biases_0 instead.\n",
      "INFO:tensorflow:Summary name /weight/hist/QNetwork/latent/LayerNorm_2/beta:0 is illegal; using weight/hist/QNetwork/latent/LayerNorm_2/beta_0 instead.\n",
      "INFO:tensorflow:Summary name /weight/hist/QNetwork/latent/LayerNorm_2/gamma:0 is illegal; using weight/hist/QNetwork/latent/LayerNorm_2/gamma_0 instead.\n",
      "INFO:tensorflow:Summary name /weight/hist/QNetwork/latent/fully_connected_3/weights:0 is illegal; using weight/hist/QNetwork/latent/fully_connected_3/weights_0 instead.\n",
      "INFO:tensorflow:Summary name /weight/hist/QNetwork/latent/fully_connected_3/biases:0 is illegal; using weight/hist/QNetwork/latent/fully_connected_3/biases_0 instead.\n",
      "INFO:tensorflow:Summary name /weight/hist/QNetwork/w0_bar:0 is illegal; using weight/hist/QNetwork/w0_bar_0 instead.\n",
      "INFO:tensorflow:Summary name /weight/hist/QNetwork/L0_asym:0 is illegal; using weight/hist/QNetwork/L0_asym_0 instead.\n",
      "[[-0.6915364  -0.8699244   0.4353633  -0.28467476 -0.7787439   0.26010287]]\n",
      "[[-0.69323987 -0.8669254   0.43774778 -0.2847941  -0.7840078   0.2622838 ]]\n",
      "[[-0.69323987 -0.8669254   0.43774778 -0.2847941  -0.7840078   0.2622838 ]]\n",
      "[[-0.6907051  -0.8782131   0.42938596 -0.2644394  -0.7736588   0.2501912 ]]\n",
      "[[-0.6907051  -0.8782131   0.42938596 -0.2644394  -0.7736588   0.2501912 ]]\n",
      "[[-0.68903327 -0.8765984   0.42798918 -0.26841617 -0.77547085  0.2534523 ]]\n",
      "[[-0.68903327 -0.8765984   0.42798918 -0.26841617 -0.77547085  0.2534523 ]]\n",
      "[[-0.68375635 -0.8618503   0.42627448 -0.2786882  -0.7747095   0.24396515]]\n",
      "[[-0.68375635 -0.8618503   0.42627448 -0.2786882  -0.7747095   0.24396515]]\n",
      "[[-0.69491154 -0.83694184  0.43151772 -0.2944265  -0.78446007  0.25205898]]\n",
      "[[-0.69491154 -0.83694184  0.43151772 -0.2944265  -0.78446007  0.25205898]]\n",
      "[[-0.6934489  -0.8218453   0.42778558 -0.3082568  -0.77710944  0.2451601 ]]\n",
      "[[-0.6934489  -0.8218453   0.42778558 -0.3082568  -0.77710944  0.2451601 ]]\n",
      "[[-0.6965548  -0.8244838   0.43344897 -0.31218112 -0.772194    0.24546623]]\n",
      "[[-0.6965548  -0.8244838   0.43344897 -0.31218112 -0.772194    0.24546623]]\n",
      "[[-0.7006878  -0.82485783  0.43138194 -0.30712432 -0.77254987  0.24828386]]\n",
      "[[-0.7006878  -0.82485783  0.43138194 -0.30712432 -0.77254987  0.24828386]]\n",
      "[[-0.68317395 -0.7872827   0.43763667 -0.3579983  -0.7716555   0.24060345]]\n",
      "[[-0.68317395 -0.7872827   0.43763667 -0.3579983  -0.7716555   0.24060345]]\n",
      "[[-0.65691656 -0.79559225  0.41567928 -0.35695118 -0.74886096  0.22059298]]\n",
      "[[-0.65691656 -0.79559225  0.41567928 -0.35695118 -0.74886096  0.22059298]]\n",
      "48.682045\n"
     ]
    }
   ],
   "source": [
    "# settings\n",
    "L_traj = 12\n",
    "state_space = 6\n",
    "action_space = 4\n",
    "noise_precision = 1e-3\n",
    "split = 5\n",
    "learning_rate = 1e-4\n",
    "\n",
    "gpu_options = tf.GPUOptions(per_process_gpu_memory_fraction=0.15)\n",
    "with tf.Session(config=tf.ConfigProto(gpu_options=gpu_options)) as sess:\n",
    "    QNet = QNetwork2.QNetwork(scope='QNetwork')  # neural network\n",
    "    \n",
    "    # session\n",
    "    init = tf.global_variables_initializer()\n",
    "    sess.run(init)\n",
    "    \n",
    "    # generate some training and test data\n",
    "    # s R⁶, a R⁴\n",
    "    state = np.zeros([L_traj, state_space])\n",
    "    action = np.zeros([L_traj])\n",
    "    reward = np.zeros([L_traj])\n",
    "    next_state = np.zeros([L_traj, state_space])\n",
    "    done = np.zeros([L_traj])\n",
    "    \n",
    "    sess.run([QNet.reset_post])\n",
    "    print(sess.run(QNet.wt_bar).reshape(1,-1))\n",
    "    \n",
    "    for i in range(2,L_traj):\n",
    "        state[i] = 3.*np.random.rand(state_space)\n",
    "        action[i] = np.random.randint(3)\n",
    "        reward[i] = 2.+np.random.normal()\n",
    "        next_state[i] = 3.*np.random.rand(state_space)\n",
    "        done[i] = 0\n",
    "        \n",
    "        _, wout = sess.run([QNet.update_posterior, QNet.wout],\n",
    "            feed_dict={QNet.context_state: state[i-1:i+1].reshape(-1, state_space),\n",
    "                        QNet.context_action: np.array(action[i-1:i+1]).reshape(-1),\n",
    "                         QNet.context_reward: np.array(reward[i-1:i+1]).reshape(-1),\n",
    "                           QNet.context_state_next: next_state[i-1:i+1].reshape(-1, state_space),\n",
    "                           QNet.context_done: np.array(done[i-1:i+1]).reshape(-1, 1),\n",
    "                            QNet.nprec: noise_precision, QNet.is_online: True})\n",
    "\n",
    "        print(wout.reshape(1,-1))\n",
    "        print(sess.run(QNet.wt_bar).reshape(1,-1))\n",
    "        \n",
    "    # learning  \n",
    "    # select amax from online network\n",
    "    amax_online = sess.run(QNet.max_action,\n",
    "        feed_dict={QNet.context_state: state[:split].reshape(-1, state_space),\n",
    "                   QNet.context_action: action[:split].reshape(-1),\n",
    "                   QNet.context_reward: reward[:split].reshape(-1),\n",
    "                   QNet.context_state_next: next_state[:split].reshape(-1, state_space),\n",
    "                   QNet.context_done: done[:split].reshape(-1,1),\n",
    "                   QNet.state: state[split:],\n",
    "                   QNet.state_next: next_state[split:],\n",
    "                   QNet.nprec: noise_precision})\n",
    "\n",
    "    # evaluate target model\n",
    "    phi_max_target = sess.run(QNet.phi_max,\n",
    "        feed_dict={QNet.context_state: state[:split],\n",
    "                   QNet.context_action: action[:split],\n",
    "                   QNet.context_reward: reward[:split],\n",
    "                   QNet.context_state_next: next_state[:split],\n",
    "                   QNet.state: state[split:],\n",
    "                   QNet.state_next: next_state[split:],\n",
    "                   QNet.amax_online: amax_online})\n",
    "\n",
    "    # update model\n",
    "    grads, loss, loss1, loss2, Qdiff = sess.run(\n",
    "        [QNet.gradients, QNet.loss, QNet.loss1, QNet.loss2, QNet.Qdiff],\n",
    "        feed_dict={QNet.context_state: state[:split].reshape(-1, state_space),\n",
    "                   QNet.context_action: action[:split].reshape(-1),\n",
    "                   QNet.context_reward: reward[:split].reshape(-1),\n",
    "                   QNet.context_state_next: next_state[:split].reshape(-1, state_space),\n",
    "                   QNet.context_done: done[:split].reshape(-1,1),\n",
    "                   QNet.state: state[split:],\n",
    "                   QNet.action: action[split:],\n",
    "                   QNet.reward: reward[split:],\n",
    "                   QNet.state_next: next_state[split:],\n",
    "                   QNet.done: done[split:],\n",
    "                   QNet.phi_max_target: phi_max_target,\n",
    "                   QNet.amax_online: amax_online,\n",
    "                   QNet.lr_placeholder: learning_rate,\n",
    "                   QNet.nprec: noise_precision})\n",
    "\n",
    "    print(loss)\n",
    "    "
   ]
  },
  {
   "cell_type": "markdown",
   "metadata": {},
   "source": [
    "### Testing iterative updates for GP"
   ]
  },
  {
   "cell_type": "code",
   "execution_count": 4,
   "metadata": {},
   "outputs": [
    {
     "name": "stderr",
     "output_type": "stream",
     "text": [
      "/usr/local/lib/python2.7/dist-packages/h5py/__init__.py:34: FutureWarning: Conversion of the second argument of issubdtype from `float` to `np.floating` is deprecated. In future, it will be treated as `np.float64 == np.dtype(float).type`.\n",
      "  from ._conv import register_converters as _register_converters\n"
     ]
    }
   ],
   "source": [
    "import tensorflow as tf\n",
    "import numpy as np"
   ]
  },
  {
   "cell_type": "code",
   "execution_count": 250,
   "metadata": {},
   "outputs": [],
   "source": [
    "# my batch udate\n",
    "class my_batch():\n",
    "    def __init__(self):\n",
    "        self.xtf = tf.placeholder(shape=[None, 2], dtype=tf.float32)\n",
    "        self.ytf = tf.placeholder(shape=[None], dtype=tf.float32)\n",
    "        self.stf = tf.placeholder(shape=[1], dtype=tf.float32)\n",
    "        \n",
    "        self.L0 = tf.constant([[1., 0.23], [0.23, 1.]])\n",
    "        self.w0_bar = tf.constant(0.5, shape=[2,1])\n",
    "        bsc, _ = tf.unstack(tf.shape(self.xtf))\n",
    "        self.Sigma_e_context = self.stf* tf.ones(bsc, name='noise_precision')\n",
    "    \n",
    "        self.update_posterior = self._update_posterior(self.xtf, self.ytf)\n",
    "        \n",
    "    def _update_posterior(self, phi_hat, reward):\n",
    "        ''' update posterior distribution '''\n",
    "        Le = tf.linalg.inv(tf.linalg.diag(self.Sigma_e_context)) # noise precision\n",
    "        Lt = tf.matmul(tf.transpose(phi_hat), tf.matmul(Le, phi_hat)) + self.L0\n",
    "        Lt_inv = tf.linalg.inv(Lt) # posterior variance\n",
    "        wt_unnormalized = tf.matmul(self.L0, self.w0_bar) + \\\n",
    "                        tf.matmul(tf.transpose(phi_hat),\n",
    "                                  tf.matmul(Le, tf.reshape(reward, [-1, 1])))\n",
    "        wt_bar = tf.matmul(Lt_inv, wt_unnormalized) # posterior mean\n",
    "\n",
    "        return wt_bar, Lt_inv"
   ]
  },
  {
   "cell_type": "code",
   "execution_count": 251,
   "metadata": {},
   "outputs": [],
   "source": [
    "# my online update (with tf.scan -> not working propperly)\n",
    "# issues arises with not initializing tf.scan thus it uses\n",
    "# the first element for initialization and \"loses\" one data pt\n",
    "class my_online():\n",
    "    def __init__(self):\n",
    "        self.xtf = tf.placeholder(shape=[None, 2], dtype=tf.float32)\n",
    "        self.ytf = tf.placeholder(shape=[None], dtype=tf.float32)\n",
    "        self.stf = tf.placeholder(shape=[1], dtype=tf.float32)\n",
    "        \n",
    "        self.L0 = tf.constant([[1., 0.23], [0.23, 1.]])\n",
    "        self.w0_bar = tf.constant(0.5, shape=[2,1])\n",
    "        \n",
    "        with tf.variable_scope('online', reuse=tf.AUTO_REUSE):\n",
    "            self.wt_bar = tf.get_variable('wt_bar', initializer=self.w0_bar, trainable=False)\n",
    "            self.Lt_inv = tf.get_variable('Lt_inv', initializer=tf.linalg.inv(self.L0), trainable=False)\n",
    "            self.wt_unnorm = tf.get_variable('wt_unnorm', initializer=tf.matmul(self.L0, self.w0_bar), trainable=False)\n",
    "\n",
    "\n",
    "        _, _, wt_unnorm_online, wt_bar_online, Lt_inv_online = tf.scan(self._update_posterior_online,\n",
    "                 elems=(self.xtf,\n",
    "                        self.ytf,\n",
    "                        tf.reshape(tf.matmul(self.L0, self.w0_bar), [1, 2, 1]),\n",
    "                        tf.reshape(self.w0_bar, [1, 2, 1]),\n",
    "                        tf.reshape(tf.linalg.inv(self.L0), [1, 2, 2])))\n",
    "\n",
    "        self.wt_bar_online = wt_bar_online\n",
    "        \n",
    "        w_assign = tf.assign(self.wt_bar, wt_bar_online[-1])\n",
    "        L_assign = tf.assign(self.Lt_inv, Lt_inv_online[-1])\n",
    "        w_unnorm = tf.assign(self.wt_unnorm, wt_unnorm_online[-1])\n",
    "\n",
    "        self.update_posterior = tf.group([w_assign, L_assign, w_unnorm])\n",
    "\n",
    "        \n",
    "        \n",
    "    def _update_posterior_online(self, old_values, update_values):\n",
    "\n",
    "            (_, _, wt_unnorm_old, wt_bar_old, Lt_inv_old) = old_values\n",
    "            (phi_taken, reward, _, _, _) = update_values\n",
    "\n",
    "            # max action\n",
    "            phi_hat = phi_taken\n",
    "\n",
    "            # variance\n",
    "            denum = self.stf + tf.einsum('i,ij,j->', phi_hat, Lt_inv_old, phi_hat)\n",
    "            denum = tf.reciprocal(denum)\n",
    "\n",
    "            num = tf.einsum('ij,j->i', Lt_inv_old, phi_hat)\n",
    "            num = tf.einsum('i,j->ij', num, num)\n",
    "\n",
    "            Lt_inv = Lt_inv_old - tf.multiply(num, denum)\n",
    "\n",
    "            # mean\n",
    "            wt_unnorm = wt_unnorm_old + tf.multiply(1./self.stf* reward, tf.reshape(phi_hat, [-1, 1]))\n",
    "            wt_bar = tf.matmul(Lt_inv, wt_unnorm)\n",
    "\n",
    "            return (phi_taken, reward, wt_unnorm, wt_bar, Lt_inv)\n",
    "        "
   ]
  },
  {
   "cell_type": "code",
   "execution_count": 252,
   "metadata": {},
   "outputs": [],
   "source": [
    "x = np.array([[0.834, 0.2234], [0.7234, 0.3234], [0.923, 0.256]])\n",
    "y = np.array([1.34, 1.87, 2.46])\n",
    "sigma = np.array([0.1])"
   ]
  },
  {
   "cell_type": "code",
   "execution_count": 253,
   "metadata": {},
   "outputs": [
    {
     "name": "stdout",
     "output_type": "stream",
     "text": [
      "Batch: [[1.9438286 0.8575516]]\n"
     ]
    }
   ],
   "source": [
    "gpu_options = tf.GPUOptions(per_process_gpu_memory_fraction=0.10)\n",
    "with tf.Session(config=tf.ConfigProto(gpu_options=gpu_options)) as sess:\n",
    "    mybatch = my_batch()\n",
    "    sess.run(tf.global_variables_initializer())\n",
    "    \n",
    "    w, L = sess.run(mybatch.update_posterior,\n",
    "                    feed_dict={mybatch.xtf: x,\n",
    "                               mybatch.ytf: y,\n",
    "                               mybatch.stf: sigma})\n",
    "                    \n",
    "    \n",
    "    print('Batch: '+ str(w.reshape(1,-1)))"
   ]
  },
  {
   "cell_type": "code",
   "execution_count": 254,
   "metadata": {},
   "outputs": [
    {
     "name": "stdout",
     "output_type": "stream",
     "text": [
      "Online: [[2.2943645 0.6084471]]\n"
     ]
    }
   ],
   "source": [
    "gpu_options = tf.GPUOptions(per_process_gpu_memory_fraction=0.10)\n",
    "with tf.Session(config=tf.ConfigProto(gpu_options=gpu_options)) as sess:\n",
    "    myonline = my_online()\n",
    "    sess.run(tf.global_variables_initializer())\n",
    "    \n",
    "    _, wttt = sess.run([myonline.update_posterior, myonline.wt_bar_online],\n",
    "                    feed_dict={myonline.xtf: x,\n",
    "                               myonline.ytf: y,\n",
    "                               myonline.stf: sigma})\n",
    "                    \n",
    "    w, L = sess.run([myonline.wt_bar, myonline.Lt_inv])\n",
    "    print('Online: '+ str(w.reshape(1,-1)))"
   ]
  },
  {
   "cell_type": "code",
   "execution_count": 255,
   "metadata": {},
   "outputs": [],
   "source": [
    "def _update_posterior_online(phi_taken, reward, wt_unnorm_old, wt_bar_old, Lt_inv_old):\n",
    "            nprec = 10.\n",
    "        \n",
    "            # max action\n",
    "            phi_hat = phi_taken\n",
    "            \n",
    "            # variance\n",
    "            denum = 1./nprec + np.einsum('i,ij,j->', phi_hat, Lt_inv_old, phi_hat)\n",
    "            denum = np.reciprocal(denum)\n",
    "\n",
    "            num = np.einsum('ij,j->i', Lt_inv_old, phi_hat)\n",
    "            num = np.einsum('i,j->ij', num, num)\n",
    "\n",
    "            Lt_inv = Lt_inv_old - np.multiply(num, denum)\n",
    "\n",
    "            # mean\n",
    "            wt_unnorm = wt_unnorm_old + np.multiply(nprec* reward, phi_hat.reshape([-1, 1]))\n",
    "            \n",
    "            wt_bar = np.matmul(Lt_inv, wt_unnorm)\n",
    "\n",
    "            return wt_unnorm, wt_bar, Lt_inv"
   ]
  },
  {
   "cell_type": "code",
   "execution_count": 256,
   "metadata": {},
   "outputs": [
    {
     "name": "stdout",
     "output_type": "stream",
     "text": [
      "[[1.94382796 0.8575524 ]]\n"
     ]
    }
   ],
   "source": [
    "L0 = np.array([[1., 0.23], [0.23, 1.]])\n",
    "w0_bar = np.array([[0.5], [0.5]])\n",
    "\n",
    "wt, wt_unnorm, Lt_inv = w0_bar, np.matmul(L0, w0_bar), np.linalg.inv(L0)\n",
    "\n",
    "for i in range(len(x)):\n",
    "    wt_unnorm, wt, Lt_inv = _update_posterior_online(x[i], y[i], wt_unnorm, wt, Lt_inv)\n",
    "\n",
    "print(wt.reshape(1,-1))"
   ]
  },
  {
   "cell_type": "code",
   "execution_count": 257,
   "metadata": {},
   "outputs": [],
   "source": [
    "class my_online():\n",
    "    def __init__(self):\n",
    "        self.xtf = tf.placeholder(shape=[None, 2], dtype=tf.float32)\n",
    "        self.ytf = tf.placeholder(shape=[None], dtype=tf.float32)\n",
    "        self.stf = tf.placeholder(shape=[1], dtype=tf.float32)\n",
    "        \n",
    "        self.L0 = tf.constant([[1., 0.23], [0.23, 1.]])\n",
    "        self.w0_bar = tf.constant(0.5, shape=[2,1])\n",
    "        \n",
    "        with tf.variable_scope('online', reuse=tf.AUTO_REUSE):\n",
    "            self.wt_bar = tf.get_variable('wt_bar', initializer=self.w0_bar, trainable=False)\n",
    "            self.Lt_inv = tf.get_variable('Lt_inv', initializer=tf.linalg.inv(self.L0), trainable=False)\n",
    "            self.wt_unnorm = tf.get_variable('wt_unnorm', initializer=tf.matmul(self.L0, self.w0_bar), trainable=False)\n",
    "        \n",
    "        wt_bar, Lt_inv = self._update_posterior_online(self.xtf, self.ytf)\n",
    "        \n",
    "        w_assign = tf.assign(self.wt_bar, wt_bar)\n",
    "        L_assign = tf.assign(self.Lt_inv, Lt_inv)\n",
    "\n",
    "        self.update_posterior = tf.group([w_assign, L_assign])\n",
    "        self.reset_posterior = self._reset_posterior()\n",
    "        \n",
    "    def _update_posterior_online(self, phi_taken, reward):\n",
    "        # max action\n",
    "        phi_hat = phi_taken\n",
    "\n",
    "        # variance\n",
    "        denum = self.stf + tf.einsum('bi,ij,bj->b', phi_hat, self.Lt_inv, phi_hat)\n",
    "        denum = tf.reciprocal(denum)\n",
    "\n",
    "        num = tf.einsum('ij,bj->bi', self.Lt_inv, phi_hat)\n",
    "        num = tf.einsum('bi,bj->bij', num, num)\n",
    "\n",
    "        Lt_inv = self.Lt_inv - tf.einsum('b,bij->ij', denum, num)\n",
    "\n",
    "        # mean\n",
    "        wt_unnorm = self.wt_unnorm + 1./self.stf * tf.reshape(tf.einsum('bi,b->i', phi_hat, reward), [-1, 1])\n",
    "        update_op = tf.assign(self.wt_unnorm, wt_unnorm)\n",
    "\n",
    "        with tf.control_dependencies([update_op]):\n",
    "            wt_bar = tf.matmul(Lt_inv, wt_unnorm)\n",
    "\n",
    "        return wt_bar, Lt_inv\n",
    "    \n",
    "    def _reset_posterior(self):\n",
    "        update_op0 = tf.assign(self.wt_bar, self.w0_bar)\n",
    "        update_op1 = tf.assign(self.Lt_inv, tf.linalg.inv(self.L0))\n",
    "        update_op2 = tf.assign(self.wt_unnorm, tf.matmul(self.L0, self.w0_bar))\n",
    "\n",
    "        update_op = tf.group([update_op0, update_op1, update_op2])\n",
    "\n",
    "        return update_op\n",
    "    \n"
   ]
  },
  {
   "cell_type": "code",
   "execution_count": 258,
   "metadata": {},
   "outputs": [
    {
     "name": "stdout",
     "output_type": "stream",
     "text": [
      "Online: [[1.9438286 0.8575516]]\n"
     ]
    }
   ],
   "source": [
    "gpu_options = tf.GPUOptions(per_process_gpu_memory_fraction=0.10)\n",
    "with tf.Session(config=tf.ConfigProto(gpu_options=gpu_options)) as sess:\n",
    "    myonline = my_online()\n",
    "    sess.run(tf.global_variables_initializer())\n",
    "    sess.run(myonline.reset_posterior)\n",
    "    \n",
    "    for i in range(len(x)):\n",
    "        _ = sess.run(myonline.update_posterior,\n",
    "                        feed_dict={myonline.xtf: x[i].reshape(-1,2),\n",
    "                                   myonline.ytf: y[i].reshape(-1),\n",
    "                                   myonline.stf: sigma})\n",
    "                    \n",
    "    w, L = sess.run([myonline.wt_bar, myonline.Lt_inv])\n",
    "    print('Online: '+ str(w.reshape(1,-1)))"
   ]
  },
  {
   "cell_type": "code",
   "execution_count": null,
   "metadata": {},
   "outputs": [],
   "source": [
    "Batch: [[1.9438286 0.8575516]]"
   ]
  }
 ],
 "metadata": {
  "kernelspec": {
   "display_name": "venv",
   "language": "python",
   "name": "venv"
  },
  "language_info": {
   "codemirror_mode": {
    "name": "ipython",
    "version": 2
   },
   "file_extension": ".py",
   "mimetype": "text/x-python",
   "name": "python",
   "nbconvert_exporter": "python",
   "pygments_lexer": "ipython2",
   "version": "2.7.12"
  }
 },
 "nbformat": 4,
 "nbformat_minor": 2
}
