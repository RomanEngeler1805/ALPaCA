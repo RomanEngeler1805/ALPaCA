{
 "cells": [
  {
   "cell_type": "code",
   "execution_count": 1,
   "metadata": {},
   "outputs": [],
   "source": [
    "import numpy as np\n",
    "import matplotlib.pyplot as plt"
   ]
  },
  {
   "cell_type": "code",
   "execution_count": 134,
   "metadata": {},
   "outputs": [],
   "source": [
    "episode = 3200\n",
    "run = '19-35-22_09-19'\n",
    "folder = './data/'+ run\n",
    "file_name = folder+ '/episode_'+ str(episode)+ '.npz'"
   ]
  },
  {
   "cell_type": "code",
   "execution_count": 130,
   "metadata": {},
   "outputs": [],
   "source": [
    "data = np.load(file_name)\n",
    "V = data['arr_0']\n",
    "trj = data['arr_1']\n",
    "tar = data['arr_2']\n",
    "\n"
   ]
  },
  {
   "cell_type": "code",
   "execution_count": 131,
   "metadata": {},
   "outputs": [],
   "source": [
    "def scale(x):\n",
    "    #\n",
    "    xmin = np.floor(np.min(x)*5.)/5.\n",
    "    xmax = np.ceil(np.max(x)*5.)/5.\n",
    "    \n",
    "    xinterval = xmax -xmin\n",
    "    \n",
    "    xmin_c = xmin- 0.001* xinterval\n",
    "    xmax_c = xmax+ 0.001* xinterval\n",
    "\n",
    "    return (xmin, xmax, xmin_c, xmax_c)"
   ]
  },
  {
   "cell_type": "code",
   "execution_count": 137,
   "metadata": {},
   "outputs": [
    {
     "data": {
      "image/png": "[encoded data removed]",
      "text/plain": [
       "<matplotlib.figure.Figure at 0x7f4b65c5b890>"
      ]
     },
     "metadata": {
      "needs_background": "light"
     },
     "output_type": "display_data"
    }
   ],
   "source": [
    "#\n",
    "fig, ax = plt.subplots(figsize=[8, 6], nrows=5)\n",
    "\n",
    "(c_low_cb, c_high_cb, c_low_lim, c_high_lim) = scale(V[0])\n",
    "im = ax[0].imshow(V[0].reshape(1,-1), vmin=c_low_lim, vmax=c_high_lim)\n",
    "ax[0].plot(tar, 0, 'ro', markersize=20)\n",
    "pos = np.argmax(trj[0])\n",
    "ax[0].plot(pos, 0., 'bo', markersize=20)  # imshow makes y-axis pointing downwards\n",
    "ax[0].set_xticks([])\n",
    "ax[0].set_yticks([])\n",
    "im.set_clim(c_low_lim-0.3, c_high_lim+0.3)\n",
    "cb = fig.colorbar(im, ax=ax[0], shrink=0.55, orientation=\"vertical\", pad=0.05, aspect=1, format='%.1f')\n",
    "cb.set_ticks([c_low_cb-0.3, c_high_cb+0.3])\n",
    "\n",
    "for s in range(1,4):\n",
    "    (c_low_cb, c_high_cb, c_low_lim, c_high_lim) = scale(V[s])\n",
    "    \n",
    "    im = ax[s].imshow(V[s].reshape(1,-1), vmin=c_low_lim, vmax=c_high_lim)\n",
    "    ax[s].plot(tar, 0, 'ro', markersize=20)\n",
    "    pos = np.argmax(trj[s])\n",
    "    ax[s].plot(pos, 0., 'bo', markersize=20)  # imshow makes y-axis pointing downwards\n",
    "    ax[s].set_xticks([])\n",
    "    ax[s].set_yticks([])\n",
    "    im.set_clim(c_low_lim, c_high_lim)\n",
    "    cb = fig.colorbar(im, ax=ax[s], shrink=0.55, orientation=\"vertical\", pad=0.05, aspect=1, format='%.1f')\n",
    "    cb.set_ticks([c_low_cb, c_high_cb])\n",
    "\n",
    "(c_low_cb, c_high_cb, c_low_lim, c_high_lim) = scale(V[7])\n",
    "im = ax[4].imshow(V[7].reshape(1, -1), vmin=c_low_lim, vmax=c_high_lim)\n",
    "ax[4].plot(tar, 0, 'ro', markersize=20)\n",
    "pos = np.argmax(trj[7])\n",
    "ax[4].plot(pos, 0., 'bo', markersize=20)  # imshow makes y-axis pointing downwards\n",
    "ax[4].set_xticks([])\n",
    "ax[4].set_yticks([])\n",
    "im.set_clim(c_low_lim, c_high_lim)\n",
    "cb = fig.colorbar(im, ax=ax[4], shrink=0.55, orientation=\"vertical\", pad=0.05, aspect=1, format='%.1f')\n",
    "cb.set_ticks([c_low_cb, c_high_cb])\n",
    "\n",
    "plt.tight_layout()\n",
    "plt.savefig('./figures_paper/'+run+ 'episode_'+ str(episode))\n",
    "plt.show()"
   ]
  },
  {
   "cell_type": "code",
   "execution_count": null,
   "metadata": {},
   "outputs": [],
   "source": []
  },
  {
   "cell_type": "code",
   "execution_count": null,
   "metadata": {},
   "outputs": [],
   "source": []
  }
 ],
 "metadata": {
  "kernelspec": {
   "display_name": "tensorflow",
   "language": "python",
   "name": "tensorflow"
  },
  "language_info": {
   "codemirror_mode": {
    "name": "ipython",
    "version": 2
   },
   "file_extension": ".py",
   "mimetype": "text/x-python",
   "name": "python",
   "nbconvert_exporter": "python",
   "pygments_lexer": "ipython2",
   "version": "2.7.12"
  }
 },
 "nbformat": 4,
 "nbformat_minor": 2
}
