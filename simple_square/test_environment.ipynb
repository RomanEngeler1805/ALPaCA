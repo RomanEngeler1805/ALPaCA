{
 "cells": [
  {
   "cell_type": "code",
   "execution_count": 1,
   "metadata": {},
   "outputs": [],
   "source": [
    "import numpy as np\n",
    "import matplotlib.pyplot as plt"
   ]
  },
  {
   "cell_type": "code",
   "execution_count": 2,
   "metadata": {},
   "outputs": [],
   "source": [
    "%run ./environment\n",
    "from environment import environment"
   ]
  },
  {
   "cell_type": "code",
   "execution_count": 3,
   "metadata": {},
   "outputs": [
    {
     "name": "stdout",
     "output_type": "stream",
     "text": [
      "8\n",
      "action: 0, reward: 0.439607810538, next_state: [0. 0. 0. 0. 1. 0. 0. 0. 0.]\n",
      "action: 0, reward: 0.613585900029, next_state: [0. 0. 0. 0. 1. 0. 0. 0. 0.]\n",
      "action: 1, reward: 0.536818693157, next_state: [0. 0. 0. 1. 0. 0. 0. 0. 0.]\n",
      "action: 1, reward: 0.81371699622, next_state: [0. 0. 1. 0. 0. 0. 0. 0. 0.]\n",
      "action: 1, reward: 0.919185820768, next_state: [0. 1. 0. 0. 0. 0. 0. 0. 0.]\n",
      "action: 1, reward: 0.999057695081, next_state: [1. 0. 0. 0. 0. 0. 0. 0. 0.]\n",
      "action: 1, reward: 1.03932211079, next_state: [1. 0. 0. 0. 0. 0. 0. 0. 0.]\n",
      "action: 2, reward: 0.917925028084, next_state: [0. 1. 0. 0. 0. 0. 0. 0. 0.]\n",
      "action: 2, reward: 0.86816730913, next_state: [0. 0. 1. 0. 0. 0. 0. 0. 0.]\n",
      "action: 2, reward: 0.608613741301, next_state: [0. 0. 0. 1. 0. 0. 0. 0. 0.]\n",
      "action: 2, reward: 0.351482756748, next_state: [0. 0. 0. 0. 1. 0. 0. 0. 0.]\n",
      "action: 2, reward: 0.249862744966, next_state: [0. 0. 0. 0. 0. 1. 0. 0. 0.]\n",
      "action: 2, reward: 0.173442137422, next_state: [0. 0. 0. 0. 0. 0. 1. 0. 0.]\n",
      "action: 2, reward: 0.0776064501961, next_state: [0. 0. 0. 0. 0. 0. 0. 1. 0.]\n",
      "action: 0, reward: 0.0298303522375, next_state: [0. 0. 0. 0. 0. 0. 0. 1. 0.]\n",
      "action: 0, reward: 0.32097540094, next_state: [0. 0. 0. 0. 0. 0. 0. 1. 0.]\n",
      "action: 1, reward: 0.324203115557, next_state: [0. 0. 0. 0. 0. 0. 1. 0. 0.]\n"
     ]
    }
   ],
   "source": [
    "# interaction with environment\n",
    "actions = np.array([0, 0, 1, 1, 1, 1, 1, 2, 2, 2, 2, 2, 2, 2, 0, 0, 1])\n",
    "\n",
    "env = environment(9)\n",
    "print(env.target)\n",
    "\n",
    "for i in range(len(actions)):\n",
    "    obs = env._step(actions[i])\n",
    "    \n",
    "    print('action: '+ str(actions[i])+ ', reward: '+ str(obs[1])+ ', next_state: '+ str(obs[0]))"
   ]
  },
  {
   "cell_type": "code",
   "execution_count": 4,
   "metadata": {},
   "outputs": [
    {
     "name": "stdout",
     "output_type": "stream",
     "text": [
      "[0. 0. 0. 0. 0. 0. 1. 0. 0.]\n"
     ]
    }
   ],
   "source": [
    "print(env.state)\n"
   ]
  },
  {
   "cell_type": "code",
   "execution_count": 10,
   "metadata": {},
   "outputs": [
    {
     "name": "stdout",
     "output_type": "stream",
     "text": [
      "[ 1.00101787e+00  8.74714705e-01  7.49341229e-01  6.24578436e-01\n",
      "  5.00399541e-01  3.73130877e-01  2.49135609e-01  1.26473362e-01\n",
      " -4.02546577e-04]\n",
      "[0.0101674  0.01012433 0.00979267 0.00998537 0.01017138 0.0100641\n",
      " 0.00984714 0.01002783 0.0100223 ]\n"
     ]
    },
    {
     "data": {
      "image/png": "[encoded data removed]",
      "text/plain": [
       "<matplotlib.figure.Figure at 0x7f7dc4e73b50>"
      ]
     },
     "metadata": {
      "needs_background": "light"
     },
     "output_type": "display_data"
    }
   ],
   "source": [
    "# test reward structure\n",
    "N = 100000\n",
    "\n",
    "rew = np.zeros([9,2])\n",
    "sta = np.zeros([9])\n",
    "\n",
    "for i in range(N):\n",
    "    act = np.random.randint(0,3)\n",
    "    state, r, _ = env._step(act)\n",
    "    sta[np.argmax(state)]+= 1\n",
    "    rew[np.argmax(state),0]+= r\n",
    "    rew[np.argmax(state),1]+= np.square(r-(env.target-np.argmax(state))/(env.size-1.))\n",
    "    \n",
    "print(rew[:,0]/sta)\n",
    "print(rew[:,1]/sta)\n",
    "\n",
    "plt.figure()\n",
    "plt.plot(rew[:,0]/sta)\n",
    "plt.show()"
   ]
  },
  {
   "cell_type": "code",
   "execution_count": null,
   "metadata": {},
   "outputs": [],
   "source": []
  }
 ],
 "metadata": {
  "kernelspec": {
   "display_name": "venv",
   "language": "python",
   "name": "venv"
  },
  "language_info": {
   "codemirror_mode": {
    "name": "ipython",
    "version": 2
   },
   "file_extension": ".py",
   "mimetype": "text/x-python",
   "name": "python",
   "nbconvert_exporter": "python",
   "pygments_lexer": "ipython2",
   "version": "2.7.12"
  }
 },
 "nbformat": 4,
 "nbformat_minor": 2
}
