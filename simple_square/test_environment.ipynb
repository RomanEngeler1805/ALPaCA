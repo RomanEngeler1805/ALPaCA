{
 "cells": [
  {
   "cell_type": "code",
   "execution_count": 1,
   "metadata": {},
   "outputs": [],
   "source": [
    "import numpy as np\n",
    "import matplotlib.pyplot as plt"
   ]
  },
  {
   "cell_type": "code",
   "execution_count": 2,
   "metadata": {},
   "outputs": [],
   "source": [
    "%run ./environment\n",
    "from environment import environment"
   ]
  },
  {
   "cell_type": "code",
   "execution_count": 3,
   "metadata": {},
   "outputs": [
    {
     "name": "stdout",
     "output_type": "stream",
     "text": [
      "6\n",
      "action: 0, reward: 0, next_state: [0. 0. 0. 1. 0. 0. 0.]\n",
      "action: 0, reward: 0, next_state: [0. 0. 0. 1. 0. 0. 0.]\n",
      "action: 1, reward: 0, next_state: [0. 0. 1. 0. 0. 0. 0.]\n",
      "action: 1, reward: 0, next_state: [0. 1. 0. 0. 0. 0. 0.]\n",
      "action: 1, reward: 0, next_state: [1. 0. 0. 0. 0. 0. 0.]\n",
      "action: 1, reward: -1, next_state: [1. 0. 0. 0. 0. 0. 0.]\n",
      "action: 1, reward: -1, next_state: [1. 0. 0. 0. 0. 0. 0.]\n",
      "action: 2, reward: -1, next_state: [0. 1. 0. 0. 0. 0. 0.]\n",
      "action: 2, reward: 0, next_state: [0. 0. 1. 0. 0. 0. 0.]\n",
      "action: 2, reward: 0, next_state: [0. 0. 0. 1. 0. 0. 0.]\n",
      "action: 2, reward: 0, next_state: [0. 0. 0. 0. 1. 0. 0.]\n",
      "action: 2, reward: 0, next_state: [0. 0. 0. 0. 0. 1. 0.]\n",
      "action: 2, reward: 0, next_state: [0. 0. 0. 0. 0. 0. 1.]\n",
      "action: 2, reward: 1, next_state: [0. 0. 0. 0. 0. 0. 1.]\n",
      "action: 0, reward: 1, next_state: [0. 0. 0. 0. 0. 0. 1.]\n",
      "action: 0, reward: 1, next_state: [0. 0. 0. 0. 0. 0. 1.]\n",
      "action: 1, reward: 1, next_state: [0. 0. 0. 0. 0. 1. 0.]\n"
     ]
    }
   ],
   "source": [
    "# interaction with environment\n",
    "actions = np.array([0, 0, 1, 1, 1, 1, 1, 2, 2, 2, 2, 2, 2, 2, 0, 0, 1])\n",
    "\n",
    "env = environment()\n",
    "print(env.target)\n",
    "\n",
    "for i in range(len(actions)):\n",
    "    obs = env._step(actions[i])\n",
    "    \n",
    "    print('action: '+ str(actions[i])+ ', reward: '+ str(obs[1])+ ', next_state: '+ str(obs[0]))"
   ]
  },
  {
   "cell_type": "code",
   "execution_count": 38,
   "metadata": {},
   "outputs": [
    {
     "name": "stdout",
     "output_type": "stream",
     "text": [
      "[[0.]\n",
      " [0.]\n",
      " [0.]\n",
      " [0.]\n",
      " [0.]\n",
      " [1.]\n",
      " [0.]]\n"
     ]
    }
   ],
   "source": [
    "print(env.state)\n"
   ]
  },
  {
   "cell_type": "code",
   "execution_count": null,
   "metadata": {},
   "outputs": [],
   "source": []
  }
 ],
 "metadata": {
  "kernelspec": {
   "display_name": "tensorflow",
   "language": "python",
   "name": "tensorflow"
  },
  "language_info": {
   "codemirror_mode": {
    "name": "ipython",
    "version": 2
   },
   "file_extension": ".py",
   "mimetype": "text/x-python",
   "name": "python",
   "nbconvert_exporter": "python",
   "pygments_lexer": "ipython2",
   "version": "2.7.12"
  }
 },
 "nbformat": 4,
 "nbformat_minor": 2
}
