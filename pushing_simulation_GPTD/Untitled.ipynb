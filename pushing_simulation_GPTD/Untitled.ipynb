{
 "cells": [
  {
   "cell_type": "code",
   "execution_count": 1,
   "metadata": {},
   "outputs": [
    {
     "name": "stderr",
     "output_type": "stream",
     "text": [
      "/home/roman/.local/lib/python2.7/site-packages/requests/__init__.py:83: RequestsDependencyWarning: Old version of cryptography ([1, 2, 3]) may cause slowdown.\n",
      "  warnings.warn(warning, RequestsDependencyWarning)\n"
     ]
    }
   ],
   "source": [
    "import tensorflow as tf\n",
    "import numpy as np"
   ]
  },
  {
   "cell_type": "code",
   "execution_count": 12,
   "metadata": {},
   "outputs": [
    {
     "name": "stdout",
     "output_type": "stream",
     "text": [
      "[[2. 0. 0. 1. 0.]\n",
      " [2. 0. 0. 0. 1.]\n",
      " [0. 2. 0. 1. 0.]\n",
      " [0. 2. 0. 0. 1.]\n",
      " [0. 0. 2. 1. 0.]\n",
      " [0. 0. 2. 0. 1.]]\n",
      "[[3. 1.]\n",
      " [2. 0.]\n",
      " [1. 3.]\n",
      " [0. 2.]\n",
      " [1. 1.]\n",
      " [0. 0.]]\n",
      "[[[3. 2.]\n",
      "  [1. 0.]]\n",
      "\n",
      " [[1. 0.]\n",
      "  [3. 2.]]\n",
      "\n",
      " [[1. 0.]\n",
      "  [1. 0.]]]\n"
     ]
    }
   ],
   "source": [
    "action_dim = 2\n",
    "\n",
    "with tf.Session() as sess:\n",
    "    state = np.array([[2., 0., 0.], [0., 2., 0.], [0., 0., 2.]])\n",
    "    \n",
    "    _state = tf.placeholder(shape=[None, 3], dtype=tf.float32)\n",
    "    \n",
    "    (bs, _) = tf.unstack(tf.to_int32(tf.shape(state)))\n",
    "    action_augm = tf.range(action_dim, dtype=tf.int32)\n",
    "    action_augm = tf.tile(action_augm, [bs])\n",
    "    \n",
    "    state_ = tf.tile(tf.expand_dims(_state, axis=1), [1, 1, action_dim])\n",
    "    state_ = tf.reshape(state_, [-1, 3])\n",
    "    state_ = tf.concat([state_, tf.one_hot(action_augm, action_dim, dtype=tf.float32)], axis=1)\n",
    "    \n",
    "    weight = tf.constant([[1., 0., 0., 1., 0.],[0., 1., 0., 1., 0.]])\n",
    "    output = tf.einsum('bi,ji->bj',state_, weight)\n",
    "    output_ = tf.reshape(output, [-1, 2, 2])\n",
    "    output_ = tf.transpose(output_, [0, 2, 1])\n",
    "    \n",
    "    print(sess.run(state_, feed_dict={_state: state}))\n",
    "    print(sess.run(output, feed_dict={_state: state}))\n",
    "    print(sess.run(output_, feed_dict={_state: state}))"
   ]
  },
  {
   "cell_type": "code",
   "execution_count": null,
   "metadata": {},
   "outputs": [],
   "source": []
  }
 ],
 "metadata": {
  "kernelspec": {
   "display_name": "tensorflow",
   "language": "python",
   "name": "tensorflow"
  },
  "language_info": {
   "codemirror_mode": {
    "name": "ipython",
    "version": 2
   },
   "file_extension": ".py",
   "mimetype": "text/x-python",
   "name": "python",
   "nbconvert_exporter": "python",
   "pygments_lexer": "ipython2",
   "version": "2.7.12"
  }
 },
 "nbformat": 4,
 "nbformat_minor": 2
}
