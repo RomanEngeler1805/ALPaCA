{
 "cells": [
  {
   "cell_type": "code",
   "execution_count": 1,
   "metadata": {},
   "outputs": [],
   "source": [
    "# COM offset"
   ]
  },
  {
   "cell_type": "code",
   "execution_count": 2,
   "metadata": {},
   "outputs": [],
   "source": [
    "import numpy as np\n",
    "import matplotlib.pyplot as plt\n",
    "from scipy.spatial.transform import Rotation"
   ]
  },
  {
   "cell_type": "code",
   "execution_count": 5,
   "metadata": {},
   "outputs": [
    {
     "name": "stdout",
     "output_type": "stream",
     "text": [
      "[-0.07071068  0.07071068]\n"
     ]
    }
   ],
   "source": [
    "# true position\n",
    "position = np.array([0.0, 0.0])\n",
    "\n",
    "# shift\n",
    "delta = 0.1 # in y-direction in local coord frame\n",
    "theta = 0.25* np.pi\n",
    "\n",
    "# shifted position\n",
    "rot_mat = np.array([[np.cos(theta), -np.sin(theta)], [np.sin(theta), np.cos(theta)]])\n",
    "\n",
    "position_shifted = position+ np.dot(rot_mat, np.array([0., delta]))\n",
    "\n",
    "print(position_shifted)"
   ]
  },
  {
   "cell_type": "code",
   "execution_count": null,
   "metadata": {},
   "outputs": [],
   "source": [
    "    def _get_obs(self):\n",
    "        # get object position\n",
    "        pos_robot, _ = p.getBasePositionAndOrientation(self.robot_id)\n",
    "        pos_object, rot_object_quat = p.getBasePositionAndOrientation(self.object_id)\n",
    "\n",
    "        # add COM offset to object position\n",
    "        r = Rotation.from_quat(rot_object_quat)\n",
    "        rot_object_matrix = r.as_dcm()\n",
    "        obj_offset_COM_global = np.dot(rot_object_matrix[:2,:2], self.obj_offset_COM_local)\n",
    "        pos_object_COM = np.asarray(pos_object[:2])+ obj_offset_COM_global"
   ]
  }
 ],
 "metadata": {
  "kernelspec": {
   "display_name": "tensorflow",
   "language": "python",
   "name": "tensorflow"
  },
  "language_info": {
   "codemirror_mode": {
    "name": "ipython",
    "version": 2
   },
   "file_extension": ".py",
   "mimetype": "text/x-python",
   "name": "python",
   "nbconvert_exporter": "python",
   "pygments_lexer": "ipython2",
   "version": "2.7.12"
  }
 },
 "nbformat": 4,
 "nbformat_minor": 2
}
