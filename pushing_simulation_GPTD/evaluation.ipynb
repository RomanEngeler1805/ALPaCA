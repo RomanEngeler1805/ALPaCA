{
 "cells": [
  {
   "cell_type": "code",
   "execution_count": 1,
   "metadata": {},
   "outputs": [
    {
     "name": "stderr",
     "output_type": "stream",
     "text": [
      "/home/roman/venv/local/lib/python2.7/site-packages/h5py/__init__.py:36: RuntimeWarning: numpy.dtype size changed, may indicate binary incompatibility. Expected 96, got 88\n",
      "  from ._conv import register_converters as _register_converters\n",
      "/home/roman/venv/local/lib/python2.7/site-packages/h5py/__init__.py:45: RuntimeWarning: numpy.dtype size changed, may indicate binary incompatibility. Expected 96, got 88\n",
      "  from . import h5a, h5d, h5ds, h5f, h5fd, h5g, h5r, h5s, h5t, h5p, h5z\n",
      "/home/roman/venv/local/lib/python2.7/site-packages/h5py/_hl/group.py:22: RuntimeWarning: numpy.dtype size changed, may indicate binary incompatibility. Expected 96, got 88\n",
      "  from .. import h5g, h5i, h5o, h5r, h5t, h5l, h5p\n",
      "/home/roman/.local/lib/python2.7/site-packages/requests/__init__.py:83: RequestsDependencyWarning: Old version of cryptography ([1, 2, 3]) may cause slowdown.\n",
      "  warnings.warn(warning, RequestsDependencyWarning)\n"
     ]
    }
   ],
   "source": [
    "import numpy as np\n",
    "import os\n",
    "os.environ['TF_CPP_MIN_LOG_LEVEL'] = '3'\n",
    "import tensorflow as tf\n",
    "import time\n",
    "import logging\n",
    "import matplotlib\n",
    "import matplotlib.pyplot as plt\n",
    "from matplotlib.pyplot import cm\n",
    "import pandas as pd\n",
    "import sys\n",
    "from matplotlib import ticker"
   ]
  },
  {
   "cell_type": "code",
   "execution_count": 2,
   "metadata": {},
   "outputs": [],
   "source": [
    "import pybullet as p\n",
    "import gym\n",
    "from gym import spaces\n",
    "import numpy as np\n",
    "import pybullet_data\n",
    "import time\n",
    "from scipy.spatial.transform import Rotation\n",
    "import matplotlib.pyplot as plt\n",
    "\n",
    "\n",
    "class PushEnv(gym.Env):\n",
    "    \"\"\"\n",
    "    Action: [0 -> stay, 1 -> left, 2 -> right, 3 -> forward, 4 -> backward]\n",
    "    Observation: [x, y]\n",
    "    Reward: 1/(target_distance+ 1) in [0, 1]\n",
    "    \"\"\"\n",
    "\n",
    "    def __init__(self):\n",
    "        \n",
    "        self.rew_scale = 1.\n",
    "        \n",
    "        # domain boundaries\n",
    "        self.minp = 0.0\n",
    "        self.maxp = 0.4\n",
    "\n",
    "        self.maxv = 1.5\n",
    "\n",
    "        self.arm_length = 0.5 * self.maxp\n",
    "        self.deacceleration = 0.4\n",
    "        # target position\n",
    "        self.target_position = np.r_[0.8 * self.maxp, 0.5 * self.maxp]\n",
    "\n",
    "        self.low = np.r_[self.minp, self.minp, -self.maxv, -self.maxv, -0.2*self.maxp, -0.2*self.maxp, -self.maxv, -self.maxv, -4.]\n",
    "        self.high = np.r_[self.maxp, self.maxp, +self.maxv, +self.maxv, 0.2*self.maxp, 0.2*self.maxp, +self.maxv, +self.maxv, 4.]\n",
    "\n",
    "        # parameters for the simulation\n",
    "        self.velocity_increment = 0.04\n",
    "        self.control_hz = 30.\n",
    "        self.sim_hz = 240.\n",
    "        self.max_force = 400 # force of manipulator\n",
    "\n",
    "        # define spaces in gym env\n",
    "        self.action_space = spaces.Discrete(1)\n",
    "        self.observation_range = spaces.Box(self.low, self.high)\n",
    "\n",
    "        # initialize pybullet\n",
    "        p.connect(p.DIRECT)\n",
    "        p.setAdditionalSearchPath(pybullet_data.getDataPath())\n",
    "\n",
    "        # action set\n",
    "        self.velocities = np.asarray([\n",
    "            [0.0, 0.0],\n",
    "            [0.0, -1.0],\n",
    "            [0.0, 1.0],\n",
    "            [1.0, 0.0],\n",
    "            [-1.0, 0.0],\n",
    "            [0.74, 0.74],\n",
    "            [0.74, -0.74]\n",
    "        ]) * self.velocity_increment\n",
    "        \n",
    "        # # #\n",
    "        # displacement\n",
    "        self.displacement = (0.3+ np.random.rand()* 0.4) * self.maxp\n",
    "        self.offset_EE = 0.01*(-0.5 + np.random.rand())\n",
    "        \n",
    "        #\n",
    "        self.offset_COM = 0.02*(-1. + 2.* np.random.rand())\n",
    "\n",
    "        self.reset()\n",
    "\n",
    "    def reset(self):\n",
    "        # reset simulation\n",
    "        p.resetSimulation()\n",
    "        p.setGravity(0.0, 0.0, -10.0)\n",
    "\n",
    "        # load environment\n",
    "        p.loadURDF(\"plane.urdf\")\n",
    "\n",
    "        # load manipulation object\n",
    "        self.object_id = p.loadURDF(\"urdfs/cuboid1.urdf\", [0.05, self.displacement, 0.01])\n",
    "        # load manipulator\n",
    "        self.robot_position = np.r_[0.02, self.displacement+ self.offset_EE, 0.03] # XXXX\n",
    "        rot = Rotation.from_rotvec(np.r_[0.0, 1.0, 0.0] * 0.5 * np.pi)\n",
    "        self.robot_id = p.loadURDF(\"urdfs/cylinder.urdf\", self.robot_position, rot.as_quat())\n",
    "\n",
    "        # define constraint to track motion\n",
    "        self.constraint_uid = p.createConstraint(self.robot_id, -1, -1, -1, p.JOINT_FIXED, [0.0, 0.0, 0.0],\n",
    "                                                 [0., 0., 0.], self.robot_position, [0., 0., 0., 1.0], rot.as_quat())\n",
    "\n",
    "        # object COM offset\n",
    "        self.obj_offset_COM_local = np.array([0., self.offset_COM])\n",
    "\n",
    "        # reset velocity vector\n",
    "        self.velocity_vector = np.zeros(2)\n",
    "\n",
    "        # return observation\n",
    "        obs = self._get_obs()\n",
    "\n",
    "        return obs\n",
    "\n",
    "    def step(self, action):\n",
    "        # number of steps (control frequency < simulation frequency)\n",
    "        N_steps = int(self.sim_hz / self.control_hz)\n",
    "\n",
    "        # accelerate\n",
    "        dvelocity = self.velocities[action] / N_steps\n",
    "\n",
    "        # continuously track motion\n",
    "        for _ in range(N_steps):\n",
    "            self.velocity_vector += dvelocity\n",
    "            self.robot_position[:2] += self.velocity_vector / self.sim_hz\n",
    "\n",
    "            p.changeConstraint(self.constraint_uid, jointChildPivot=self.robot_position, maxForce=self.max_force)\n",
    "            p.stepSimulation()\n",
    "            #time.sleep(1./10.)\n",
    "\n",
    "        # get observation\n",
    "        obs = self._get_obs()\n",
    "\n",
    "        done = False\n",
    "\n",
    "        # check domain violations\n",
    "        if np.any(obs < self.low) or np.any(obs > self.high):\n",
    "            done = True\n",
    "\n",
    "        # if robot moves too far away from object\n",
    "        rot_object_matrix = np.array([[np.cos(obs[-1]), np.sin(obs[-1])],\n",
    "                                      [-np.sin(obs[-1]), np.cos(obs[-1])]])\n",
    "        dist = np.dot(np.linalg.inv(rot_object_matrix[:2,:2]), obs[4:6])\n",
    "        \n",
    "        if np.abs(dist[0]) > 0.032 or np.abs(dist[1]) > 0.045:\n",
    "            done = True\n",
    "\n",
    "        # calculate reward 0.01\n",
    "        reward = 10.* self.rew_scale / (self.rew_scale + np.linalg.norm(obs[:2]+ obs[4:6] - self.target_position)) # 1/ dist(object_to_target)\n",
    "        #reward = self.rew_scale* (0.3- np.linalg.norm(obs[4:6] - self.target_position))\n",
    "\n",
    "        return obs, reward, done, {}\n",
    "\n",
    "    def _get_obs(self):\n",
    "        # get object position\n",
    "        pos_robot, _ = p.getBasePositionAndOrientation(self.robot_id)\n",
    "        pos_object, rot_object_quat = p.getBasePositionAndOrientation(self.object_id)\n",
    "\n",
    "        # add COM offset to object position\n",
    "        r = Rotation.from_quat(rot_object_quat)\n",
    "        rot_object_matrix = r.as_dcm()\n",
    "        obj_offset_COM_global = np.dot(rot_object_matrix[:2,:2], self.obj_offset_COM_local)\n",
    "        pos_object_COM = np.asarray(pos_object[:2])+ obj_offset_COM_global\n",
    "        pos_object_COM -= pos_robot[:2]\n",
    "        \n",
    "        vel_object_lin, _ = p.getBaseVelocity(self.object_id)\n",
    "        vel_robot_lin, _ = p.getBaseVelocity(self.robot_id)\n",
    "        \n",
    "        vel_object = np.asarray(vel_object_lin[:2])- np.asarray(vel_robot_lin[:2])\n",
    "\n",
    "        return np.concatenate([np.asarray(pos_robot[:2]),\n",
    "                               np.asarray(vel_robot_lin[:2]),\n",
    "                               pos_object_COM,\n",
    "                               vel_object,\n",
    "                               np.array(p.getEulerFromQuaternion(rot_object_quat)[2]).reshape(-1)])\n"
   ]
  },
  {
   "cell_type": "code",
   "execution_count": 3,
   "metadata": {},
   "outputs": [],
   "source": [
    "'''\n",
    "Class structure for ALPaCA meta-RL code\n",
    "'''\n",
    "\n",
    "gpu_options = tf.GPUOptions(per_process_gpu_memory_fraction=0.13)\n",
    "\n",
    "tf.app.flags.DEFINE_string('f', '', 'kernel')\n",
    "\n",
    "flags = tf.app.flags\n",
    "FLAGS = flags.FLAGS\n",
    "\n",
    "# General Hyperparameters\n",
    "# general\n",
    "flags.DEFINE_integer(\"batch_size\", 2, \"Batch size for training\")\n",
    "flags.DEFINE_float(\"gamma\", 0.90, \"Discount factor\")\n",
    "flags.DEFINE_integer(\"N_episodes\", 30000, \"Number of episodes\")\n",
    "flags.DEFINE_integer(\"N_tasks\", 2, \"Number of tasks\")\n",
    "flags.DEFINE_integer(\"L_episode\", 50, \"Length of episodes\")\n",
    "\n",
    "# architecture\n",
    "flags.DEFINE_integer(\"hidden_space\", 64, \"Dimensionality of hidden space\")\n",
    "flags.DEFINE_integer(\"latent_space\", 8, \"Dimensionality of latent space\")\n",
    "flags.DEFINE_string('non_linearity', 'leaky_relu', 'Non-linearity used in encoder')\n",
    "flags.DEFINE_integer(\"nstep\", 1, \"n-step TD return\")\n",
    "\n",
    "# domain\n",
    "flags.DEFINE_integer(\"action_space\", 7, \"Dimensionality of action space\")  # only x-y currently\n",
    "flags.DEFINE_integer(\"state_space\", 8, \"Dimensionality of state space\")  # [x,y,theta,vx,vy,vtheta]\n",
    "\n",
    "# posterior\n",
    "flags.DEFINE_float(\"prior_precision\", 0.1, \"Prior precision (1/var)\")\n",
    "flags.DEFINE_float(\"noise_precision\", 30., \"Noise precision (1/var)\")\n",
    "flags.DEFINE_float(\"noise_precmax\", 30.0, \"Maximum noise precision (1/var)\")\n",
    "flags.DEFINE_integer(\"noise_Ndrop\", 1, \"Increase noise precision every N steps\")\n",
    "flags.DEFINE_float(\"noise_precstep\", 1.001, \"Step of noise precision s*=ds\")\n",
    "\n",
    "flags.DEFINE_integer(\"split_N\", 20, \"Increase split ratio every N steps\")\n",
    "flags.DEFINE_float(\"split_ratio\", 0.85, \"Initial split ratio for conditioning\")\n",
    "flags.DEFINE_float(\"split_ratio_max\", 0.85, \"Maximum split ratio for conditioning\")\n",
    "flags.DEFINE_integer(\"update_freq_post\", 5, \"Update frequency of posterior and sampling of new policy\")\n",
    "\n",
    "# exploration\n",
    "flags.DEFINE_float(\"eps_initial\", 0., \"Initial value for epsilon-greedy\")\n",
    "flags.DEFINE_float(\"eps_final\", 0., \"Final value for epsilon-greedy\")\n",
    "flags.DEFINE_float(\"eps_step\", 0.9997, \"Multiplicative step for epsilon-greedy\")\n",
    "\n",
    "# target\n",
    "flags.DEFINE_float(\"tau\", 0.008, \"Update speed of target network\")\n",
    "flags.DEFINE_integer(\"update_freq_target\", 1, \"Update frequency of target network\")\n",
    "\n",
    "# loss\n",
    "flags.DEFINE_float(\"learning_rate\", 5e-2, \"Initial learning rate\")\n",
    "flags.DEFINE_float(\"lr_drop\", 1.0003, \"Drop of learning rate per episode\")\n",
    "flags.DEFINE_float(\"lr_final\", 1e-4, \"Final learning rate\")\n",
    "flags.DEFINE_float(\"grad_clip\", 1e4, \"Absolute value to clip gradients\")\n",
    "flags.DEFINE_float(\"huber_d\", 1e1, \"Switch point from quadratic to linear\")\n",
    "flags.DEFINE_float(\"regularizer\", 1e-2, \"Regularization parameter\") # X\n",
    "\n",
    "# reward\n",
    "flags.DEFINE_float(\"rew_norm\", 1e-2, \"Normalization factor for reward\")\n",
    "\n",
    "# memory\n",
    "flags.DEFINE_integer(\"replay_memory_size\", 10000, \"Size of replay memory\")\n",
    "flags.DEFINE_integer(\"iter_amax\", 1, \"Number of iterations performed to determine amax\")\n",
    "flags.DEFINE_integer(\"save_frequency\", 50, \"Store images every N-th episode\")\n",
    "\n",
    "#\n",
    "flags.DEFINE_integer(\"random_seed\", 2345, \"Random seed for numpy and tensorflow\")\n",
    "flags.DEFINE_bool(\"load_model\", True, \"Load trained model\")\n",
    "\n",
    "#FLAGS = flags.FLAGS\n",
    "#FLAGS(sys.argv)\n",
    "\n",
    "np.random.seed(FLAGS.random_seed)\n",
    "tf.set_random_seed(FLAGS.random_seed)\n",
    "\n",
    "from QNetwork import QNetwork\n",
    "from replay_buffer import replay_buffer"
   ]
  },
  {
   "cell_type": "code",
   "execution_count": 4,
   "metadata": {},
   "outputs": [],
   "source": [
    "def eGreedyAction(x, epsilon=0.):\n",
    "    ''' select next action according to epsilon-greedy algorithm '''\n",
    "    if np.random.rand() >= epsilon:\n",
    "        action = np.argmax(x)\n",
    "    else:\n",
    "        action = np.random.randint(FLAGS.action_space)\n",
    "    return action\n",
    "\n",
    "def create_dictionary(dir_name):\n",
    "    if not os.path.exists(dir_name):\n",
    "        os.makedirs(dir_name)"
   ]
  },
  {
   "cell_type": "code",
   "execution_count": null,
   "metadata": {},
   "outputs": [],
   "source": []
  },
  {
   "cell_type": "code",
   "execution_count": 19,
   "metadata": {
    "scrolled": false
   },
   "outputs": [
    {
     "name": "stdout",
     "output_type": "stream",
     "text": [
      "Successully restored model from ./model/18-52-27_11-19/model-25000\n",
      "Episodes...\n",
      "0\n"
     ]
    },
    {
     "data": {
      "image/png": "[encoded data removed]",
      "text/plain": [
       "<matplotlib.figure.Figure at 0x7feb99441bd0>"
      ]
     },
     "metadata": {
      "needs_background": "light"
     },
     "output_type": "display_data"
    },
    {
     "name": "stdout",
     "output_type": "stream",
     "text": [
      "100\n"
     ]
    },
    {
     "data": {
      "image/png": "[encoded data removed]",
      "text/plain": [
       "<matplotlib.figure.Figure at 0x7feb985cec50>"
      ]
     },
     "metadata": {
      "needs_background": "light"
     },
     "output_type": "display_data"
    },
    {
     "name": "stdout",
     "output_type": "stream",
     "text": [
      "200\n"
     ]
    },
    {
     "data": {
      "image/png": "[encoded data removed]",
      "text/plain": [
       "<matplotlib.figure.Figure at 0x7feba98f1d90>"
      ]
     },
     "metadata": {
      "needs_background": "light"
     },
     "output_type": "display_data"
    },
    {
     "name": "stdout",
     "output_type": "stream",
     "text": [
      "300\n"
     ]
    },
    {
     "data": {
      "image/png": "[encoded data removed]",
      "text/plain": [
       "<matplotlib.figure.Figure at 0x7feba003c9d0>"
      ]
     },
     "metadata": {
      "needs_background": "light"
     },
     "output_type": "display_data"
    },
    {
     "name": "stdout",
     "output_type": "stream",
     "text": [
      "400\n"
     ]
    },
    {
     "data": {
      "image/png": "[encoded data removed]",
      "text/plain": [
       "<matplotlib.figure.Figure at 0x7feba8d21b90>"
      ]
     },
     "metadata": {
      "needs_background": "light"
     },
     "output_type": "display_data"
    },
    {
     "name": "stdout",
     "output_type": "stream",
     "text": [
      "500\n"
     ]
    },
    {
     "data": {
      "image/png": "[encoded data removed]",
      "text/plain": [
       "<matplotlib.figure.Figure at 0x7feba005dfd0>"
      ]
     },
     "metadata": {
      "needs_background": "light"
     },
     "output_type": "display_data"
    },
    {
     "name": "stdout",
     "output_type": "stream",
     "text": [
      "600\n"
     ]
    },
    {
     "data": {
      "image/png": "[encoded data removed]",
      "text/plain": [
       "<matplotlib.figure.Figure at 0x7feba03cbed0>"
      ]
     },
     "metadata": {
      "needs_background": "light"
     },
     "output_type": "display_data"
    },
    {
     "name": "stdout",
     "output_type": "stream",
     "text": [
      "700\n"
     ]
    },
    {
     "data": {
      "image/png": "[encoded data removed]",
      "text/plain": [
       "<matplotlib.figure.Figure at 0x7feb7baee1d0>"
      ]
     },
     "metadata": {
      "needs_background": "light"
     },
     "output_type": "display_data"
    },
    {
     "name": "stdout",
     "output_type": "stream",
     "text": [
      "800\n"
     ]
    },
    {
     "data": {
      "image/png": "[encoded data removed]",
      "text/plain": [
       "<matplotlib.figure.Figure at 0x7feba8cba390>"
      ]
     },
     "metadata": {
      "needs_background": "light"
     },
     "output_type": "display_data"
    },
    {
     "name": "stdout",
     "output_type": "stream",
     "text": [
      "900\n"
     ]
    },
    {
     "data": {
      "image/png": "[encoded data removed]",
      "text/plain": [
       "<matplotlib.figure.Figure at 0x7feba92c0550>"
      ]
     },
     "metadata": {
      "needs_background": "light"
     },
     "output_type": "display_data"
    },
    {
     "data": {
      "image/png": "[encoded data removed]",
      "text/plain": [
       "<matplotlib.figure.Figure at 0x7feb80c28b10>"
      ]
     },
     "metadata": {
      "needs_background": "light"
     },
     "output_type": "display_data"
    }
   ],
   "source": [
    "import logging\n",
    "logging.getLogger(\"tensorflow\").setLevel(logging.WARNING)\n",
    "sim = simulation()\n",
    "\n",
    "# Main Routine ===========================================================================\n",
    "eps = 0.\n",
    "\n",
    "counter = 0\n",
    "\n",
    "#\n",
    "split_ratio = FLAGS.split_ratio\n",
    "nstep = FLAGS.nstep\n",
    "gamma = FLAGS.gamma\n",
    "\n",
    "# folder for plotting --------------------------------------------------------------------\n",
    "base_dir = './figures/' + time.strftime('%H-%M-%d_%m-%y')\n",
    "\n",
    "# initialize replay memory and model\n",
    "tempbuffer = replay_buffer(FLAGS.L_episode)  # buffer for episode\n",
    "\n",
    "# initialize environment\n",
    "env = PushEnv()\n",
    "env.rew_scale = FLAGS.rew_norm\n",
    "\n",
    "# initialize\n",
    "noise_precision = FLAGS.noise_precision\n",
    "\n",
    "N = 10\n",
    "\n",
    "#\n",
    "offset_COM = np.zeros(N**3)\n",
    "offset_EE = np.zeros(N**3)\n",
    "displacement = np.zeros(N**3)\n",
    "\n",
    "for oc in range(N):\n",
    "    for oe in range(N):\n",
    "        for di in range(N):\n",
    "            offset_COM[oc*N**2+ oe*N+ di] = 0.02*(-1.+ 2.* oc/ N)\n",
    "            offset_EE[oc*N**2+ oe*N+ di] = 0.01*(-0.5+ 1.*oe/ N)\n",
    "            displacement[oc*N**2+ oe*N+ di] = (0.3+ di/ N* 0.4)* env.maxp\n",
    "\n",
    "#\n",
    "tf.reset_default_graph()\n",
    "\n",
    "with tf.Session(config=tf.ConfigProto(gpu_options=gpu_options)) as sess:\n",
    "    \n",
    "    # folder to save and restore model --------------------eps----------------------\n",
    "    saver_dir = './model/' + time.strftime('%H-%M-%d_%m-%y') + '/'\n",
    "    create_dictionary(saver_dir)\n",
    "    loader_dir = './model/18-52-27_11-19/'\n",
    "    # 18-52-27_11-19\n",
    "    # 18-57-27_11-19\n",
    "\n",
    "    QNet = QNetwork(FLAGS, scope='QNetwork')\n",
    "    Qtarget = QNetwork(FLAGS, scope='TargetNetwork')\n",
    "\n",
    "    init = tf.global_variables_initializer()\n",
    "    sess.run(init)\n",
    "\n",
    "    if FLAGS.load_model == True:\n",
    "            loader = tf.train.Saver(max_to_keep=6)\n",
    "            loader.restore(sess, loader_dir+ 'model-25000')\n",
    "            print('Successully restored model from ' + str(tf.train.latest_checkpoint(loader_dir)))  \n",
    "\n",
    "    # report mean reward per episode\n",
    "    reward_episode = []\n",
    "\n",
    "    # target distance vs COM offset\n",
    "    target_COM = []\n",
    "    \n",
    "    # count reward\n",
    "    target_distance = []\n",
    "    max_speed = []\n",
    "    reward_episode = []\n",
    "\n",
    "    # -------------------------------------------------------------------------------\n",
    "    # loop episodes\n",
    "    print(\"Episodes...\")\n",
    "    for episode in range(N**3):\n",
    "        if episode % N**2 == 0:\n",
    "            print(episode)\n",
    "\n",
    "        # initialize buffer\n",
    "        tempbuffer.reset()\n",
    "\n",
    "        # reset environment\n",
    "        env.offset_COM = offset_COM[episode%N**3] #0.02*(-1. + 2.* 5 / 10)\n",
    "        env.offset_EE = offset_EE[episode%N**3] #0.01*(-0.5 + 10/ 10.)\n",
    "        env.displacement = displacement[episode%N**3] #(0.3+ episode/ 100.* 0.4) * env.maxp\n",
    "        state = env.reset()\n",
    "\n",
    "        # network\n",
    "        sess.run(QNet.sample_prior)\n",
    "\n",
    "        # loop steps\n",
    "        step = 0\n",
    "        done = False\n",
    "        td_accum = 0\n",
    "        rw = []\n",
    "\n",
    "        #\n",
    "        speed_task = []\n",
    "\n",
    "        while (step < FLAGS.L_episode) and (done == False):\n",
    "\n",
    "            # take a step\n",
    "            Qval = sess.run(QNet.Qout, feed_dict={QNet.state: state[:8].reshape(-1,FLAGS.state_space)})[0]\n",
    "            action = eGreedyAction(Qval, eps)\n",
    "            next_state, reward, done, _ = env.step(action)\n",
    "\n",
    "            # store experience in memory\n",
    "            new_experience = [state, action, reward, next_state, done]\n",
    "            tempbuffer.add(new_experience)\n",
    "\n",
    "            # actual reward\n",
    "            rw.append(1.*reward/ FLAGS.rew_norm)\n",
    "            speed_task.append(np.linalg.norm(next_state[2:4]- state[2:4]))\n",
    "\n",
    "            # update state, and counters\n",
    "            state = next_state.copy()\n",
    "            step += 1\n",
    "\n",
    "            # update posterior\n",
    "            if (step) % FLAGS.update_freq_post == 0 and step < split_ratio* FLAGS.L_episode:\n",
    "                reward_train = np.zeros([step, ])\n",
    "                state_train = np.zeros([step, FLAGS.state_space])\n",
    "                next_state_train = np.zeros([step, FLAGS.state_space])\n",
    "                action_train = np.zeros([step, ])\n",
    "                done_train = np.zeros([step, ])\n",
    "\n",
    "                # fill arrays\n",
    "                for k, experience in enumerate(tempbuffer.buffer):\n",
    "                    # [s, a, r, s', a*, d]\n",
    "                    state_train[k] = experience[0][:8]\n",
    "                    action_train[k] = experience[1]\n",
    "                    reward_train[k] = experience[2]\n",
    "                    next_state_train[k] = experience[3][:8]\n",
    "                    done_train[k] = experience[4]\n",
    "\n",
    "                # update\n",
    "                _ = sess.run(QNet.sample_post,\n",
    "                            feed_dict={QNet.context_state: state_train,\n",
    "                                       QNet.context_action: action_train,\n",
    "                                       QNet.context_reward: reward_train,\n",
    "                                       QNet.context_state_next: next_state_train,\n",
    "                                       QNet.context_done: done_train,\n",
    "                                       QNet.nprec: noise_precision})\n",
    "                \n",
    "        #\n",
    "        reward_episode.append(np.sum(np.asarray(rw)))\n",
    "                \n",
    "        #\n",
    "        if episode % N**2 == 0:\n",
    "            reward_train = np.zeros([step, ])\n",
    "            state_train = np.zeros([step, FLAGS.state_space])\n",
    "            next_state_train = np.zeros([step, FLAGS.state_space])\n",
    "            action_train = np.zeros([step, ])\n",
    "            done_train = np.zeros([step, ])\n",
    "\n",
    "            # fill arrays\n",
    "            for k, experience in enumerate(tempbuffer.buffer):\n",
    "                # [s, a, r, s', a*, d]\n",
    "                state_train[k] = experience[0][:8]\n",
    "                action_train[k] = experience[1]\n",
    "                reward_train[k] = experience[2]\n",
    "                next_state_train[k] = experience[3][:8]\n",
    "                \n",
    "                done_train[k] = experience[4]\n",
    "                \n",
    "            x_pos = state_train[:,0]+ state_train[:,4]\n",
    "            y_pos = state_train[:,1]+ state_train[:,5]\n",
    "            \n",
    "            x_pos_EE = state_train[:,0]\n",
    "            y_pos_EE = state_train[:,1]\n",
    "\n",
    "            plt.figure()\n",
    "            plt.grid()\n",
    "            plt.scatter(x_pos, y_pos, color='b')\n",
    "            plt.scatter(x_pos_EE, y_pos_EE, color='r')\n",
    "            plt.legend(['Obj', 'EE'])\n",
    "            plt.xlim([0., 0.4])\n",
    "            plt.ylim([0.1, 0.3])\n",
    "            plt.show()\n",
    "        \n",
    "\n",
    "        # -----------------------------------------------------------------------\n",
    "\n",
    "        # target distance vs COM offset\n",
    "        position_object = np.array([state_train[-1, 0] + state_train[-1, 4],\n",
    "                                    state_train[-1, 1] + state_train[-1, 5]])\n",
    "        target_COM.append([np.linalg.norm(env.target_position- position_object),\n",
    "                          np.linalg.norm(env.obj_offset_COM_local)])\n",
    "\n",
    "        # final distance to target\n",
    "        target_distance.append(np.linalg.norm(env.target_position- state[:2]- state[4:6]))\n",
    "\n",
    "        # maximum speed of robot arm\n",
    "        speed_task = np.asarray(speed_task)\n",
    "        max_speed.append(np.max(speed_task) * env.control_hz)\n",
    "        \n",
    "        #\n",
    "        if np.linalg.norm(env.target_position- state[:2]- state[4:6]) < 0.03:\n",
    "            #sim.simulate(tempbuffer, env.offset_COM, counter)\n",
    "            counter += 1\n",
    "    \n",
    "    plt.figure()\n",
    "    plt.plot(target_distance)\n",
    "    plt.ylim([0., 0.15])\n",
    "    plt.show()"
   ]
  },
  {
   "cell_type": "code",
   "execution_count": 17,
   "metadata": {},
   "outputs": [
    {
     "name": "stdout",
     "output_type": "stream",
     "text": [
      "averaged reward\n",
      "1659.2655199853918+-0.9346879236556463\n",
      "averaged reward displacement\n"
     ]
    },
    {
     "data": {
      "image/png": "[encoded data removed]",
      "text/plain": [
       "<matplotlib.figure.Figure at 0x7fec275da510>"
      ]
     },
     "metadata": {
      "needs_background": "light"
     },
     "output_type": "display_data"
    },
    {
     "name": "stdout",
     "output_type": "stream",
     "text": [
      "averaged reward COM\n"
     ]
    },
    {
     "data": {
      "image/png": "[encoded data removed]",
      "text/plain": [
       "<matplotlib.figure.Figure at 0x7feba9caf850>"
      ]
     },
     "metadata": {
      "needs_background": "light"
     },
     "output_type": "display_data"
    },
    {
     "name": "stdout",
     "output_type": "stream",
     "text": [
      "averaged reward EE\n"
     ]
    },
    {
     "data": {
      "image/png": "[encoded data removed]",
      "text/plain": [
       "<matplotlib.figure.Figure at 0x7feb7b546dd0>"
      ]
     },
     "metadata": {
      "needs_background": "light"
     },
     "output_type": "display_data"
    }
   ],
   "source": [
    "import pandas as pd\n",
    "\n",
    "plt.rcParams.update({'font.size': 10})\n",
    "\n",
    "reward_episode = np.asarray(reward_episode)\n",
    "\n",
    "'''\n",
    "df = pd.dataframe()\n",
    "data = {++'reward': np.mean(reward_episode)}\n",
    "df = pd.DataFrame(data=data)\n",
    "\n",
    "with open('reward.csv', 'a') as f:\n",
    "    df.to_csv(f, header=False)\n",
    "'''\n",
    "\n",
    "# averaged reward\n",
    "print('averaged reward')\n",
    "print(str(np.mean(reward_episode))+ '+-'+ str(np.std(reward_episode)/N**3))\n",
    "\n",
    "# averaged reward for given displacement [bs, oc, oe, di]\n",
    "reward_episode = reward_episode.reshape(-1, N, N, N)\n",
    "print('averaged reward displacement')\n",
    "plt.figure()\n",
    "plt.plot(np.mean(reward_episode, axis=(0,1,2)))\n",
    "plt.show()\n",
    "\n",
    "# averaged reward for given COM offset\n",
    "print('averaged reward COM')\n",
    "plt.figure()\n",
    "plt.plot(np.mean(reward_episode, axis=(0,2,3)))\n",
    "plt.show()\n",
    "\n",
    "# averaged reward for given EE offset\n",
    "print('averaged reward EE')\n",
    "plt.figure()\n",
    "plt.plot(np.mean(reward_episode, axis=(0,1,3)))\n",
    "plt.show()\n"
   ]
  },
  {
   "cell_type": "code",
   "execution_count": null,
   "metadata": {},
   "outputs": [],
   "source": [
    "1843.4044567569658+-0.9416198694114661"
   ]
  },
  {
   "cell_type": "code",
   "execution_count": null,
   "metadata": {},
   "outputs": [],
   "source": [
    "1720.6948598631323+-0.9353797831065103"
   ]
  },
  {
   "cell_type": "code",
   "execution_count": null,
   "metadata": {},
   "outputs": [],
   "source": [
    "1625.0080172436801+-0.9628746257065962"
   ]
  },
  {
   "cell_type": "code",
   "execution_count": null,
   "metadata": {},
   "outputs": [],
   "source": [
    "offset_COM = offset_COM.reshape(-1,N,N,N)\n",
    "print(offset_COM[0, 0, :, :])"
   ]
  },
  {
   "cell_type": "code",
   "execution_count": null,
   "metadata": {},
   "outputs": [],
   "source": []
  },
  {
   "cell_type": "code",
   "execution_count": 5,
   "metadata": {},
   "outputs": [],
   "source": [
    "import numpy as np\n",
    "import matplotlib.pyplot as plt\n",
    "from matplotlib.animation import FuncAnimation\n",
    "from matplotlib import animation, rc\n",
    "from IPython.display import HTML\n",
    "\n",
    "class simulation():\n",
    "    def __init__(self):\n",
    "        pass\n",
    "    \n",
    "    # ---------------------------------------------------\n",
    "    def init_plot(self):\n",
    "        self.ax.set_xlim(0, 0.4)\n",
    "        self.ax.set_ylim(0.08, 0.32)\n",
    "        self.ax.set_xticks([0., 0.1, 0.2, 0.3, 0.4])\n",
    "        self.ax.set_yticks([0.1, 0.2, 0.3])\n",
    "        self.ax.set_xlabel('x [m]')\n",
    "        self.ax.set_ylabel('y [m]')\n",
    "        self.ax.set_aspect('equal')\n",
    "        plt.savefig('push_GPTD_initial_'+ str(self.counter))\n",
    "        \n",
    "        return self.ln_EE, self.ln_Obj, self.rectangle, self.cylinder, self.com, self.com_true\n",
    "    \n",
    "     # --------------------------------------------------\n",
    "    def update(self,i):\n",
    "        # EE position\n",
    "        self.x_EE.append(self.state_train[i,0])\n",
    "        self.y_EE.append(self.state_train[i,1])\n",
    "        self.ln_EE.set_data(self.x_EE, self.y_EE)\n",
    "\n",
    "        # Rectangle position\n",
    "        phi = self.state_train[i,8]\n",
    "        rotmat = np.array([[np.cos(phi), -np.sin(phi)],\n",
    "                          [np.sin(phi), np.cos(phi)]])\n",
    "\n",
    "        r_cen_corn = np.dot(rotmat, np.array([0.0075, 0.045+ self.offset_COM]))\n",
    "\n",
    "\n",
    "        self.rectangle._angle = (phi/np.pi*180)\n",
    "        self.rectangle.set_xy([self.state_train[i,0]+ self.state_train[i,4]- r_cen_corn[0],\n",
    "                          self.state_train[i,1]+ self.state_train[i,5]- r_cen_corn[1]])\n",
    "\n",
    "        # Obj COM position\n",
    "        r_cen_corn = np.dot(rotmat, np.array([0.0, self.offset_COM]))\n",
    "        self.com_true.center = (self.state_train[i,0]+ self.state_train[i,4]- r_cen_corn[0],\n",
    "                                self.state_train[i,1]+ self.state_train[i,5]- r_cen_corn[1])\n",
    "\n",
    "        self.x_Obj.append(self.state_train[i,0]+ self.state_train[i,4]- r_cen_corn[0])\n",
    "        self.y_Obj.append(self.state_train[i,1]+ self.state_train[i,5]- r_cen_corn[1])\n",
    "        self.ln_Obj.set_data(self.x_Obj, self.y_Obj)\n",
    "\n",
    "        self.com.center = (self.state_train[i,0]+ self.state_train[i,4],\n",
    "                            self.state_train[i,1]+ self.state_train[i,5])\n",
    "\n",
    "        # EE position\n",
    "        self.cylinder.center = (self.state_train[i,0],\n",
    "                                self.state_train[i,1])\n",
    "\n",
    "\n",
    "\n",
    "        return self.ln_EE, self.ln_Obj, self.rectangle, self.cylinder, self.com, self.com_true\n",
    "    \n",
    "    # -----------------------------------------------\n",
    "    def simulate(self, buffer, offset_COM, counter):\n",
    "        self.state_train = np.zeros([step, FLAGS.state_space+1])\n",
    "        self.offset_COM = offset_COM\n",
    "        self.counter = counter\n",
    "\n",
    "        # fill arrays\n",
    "        for k, experience in enumerate(buffer.buffer):\n",
    "            # [s, a, r, s', a*, d]\n",
    "            self.state_train[k] = experience[0]\n",
    "\n",
    "        #\n",
    "        fig, self.ax = plt.subplots(figsize=(10,10))\n",
    "        plt.rcParams.update({'font.size': 30})\n",
    "        plt.plot(0.32, 0.2, 'xr', markersize=22, linewidth=22)\n",
    "        self.x_EE, self.y_EE = [], []\n",
    "        self.x_Obj, self.y_Obj = [], []\n",
    "        self.ln_EE, = plt.plot([], [], color=[0.1,0.,0.8], linewidth=6, alpha=0.3)\n",
    "        self.ln_Obj, = plt.plot([], [], color=[0.8, 0.3, 0.], linewidth=6, alpha=0.3)\n",
    "\n",
    "        # rectangle ---------------------------------------\n",
    "        self.rectangle = plt.Rectangle((self.state_train[0,0]+ self.state_train[0,4]- 0.0075,\n",
    "                                       self.state_train[0,1]+ self.state_train[0,5]- 0.045- self.offset_COM),\n",
    "                              0.015, 0.09, fc=[0.8, 0.3, 0.])\n",
    "        self.ax.add_patch(self.rectangle)\n",
    "\n",
    "        # COM\n",
    "        self.com_true = plt.Circle((self.state_train[0,0]+ self.state_train[0,4],\n",
    "                                    self.state_train[0,1]+ self.state_train[0,5]- self.offset_COM),\n",
    "                                     0.005, fc=[0.6, 0.2, 0.])\n",
    "        self.ax.add_patch(self.com_true)\n",
    "\n",
    "        self.com = plt.Circle((self.state_train[0,0]+ self.state_train[0,4],\n",
    "                               self.state_train[0,1]+ self.state_train[0,5]),\n",
    "                                0.005, fc='k')\n",
    "        self.ax.add_patch(self.com)\n",
    "\n",
    "        # cylinder\n",
    "        self.cylinder = plt.Circle((self.state_train[0,0],\n",
    "                                    self.state_train[0,1]),\n",
    "                                    0.017, fc=[0.1,0.,0.8])\n",
    "        self.ax.add_patch(self.cylinder)\n",
    "\n",
    "        # --------------------------------------------------\n",
    "        ani = FuncAnimation(fig, self.update, frames=np.arange(len(self.state_train)),\n",
    "                            init_func=self.init_plot, interval=200, blit=True)\n",
    "        #HTML(ani.to_html5_video())\n",
    "\n",
    "        ani.save('push_GPTD_'+ str(self.counter)+'.mp4', writer=\"ffmpeg\")\n",
    "        fig.show()\n",
    "        \n",
    "        plt.savefig('push_GPTD_final_'+ str(self.counter))"
   ]
  },
  {
   "cell_type": "code",
   "execution_count": null,
   "metadata": {},
   "outputs": [],
   "source": []
  },
  {
   "cell_type": "code",
   "execution_count": null,
   "metadata": {},
   "outputs": [],
   "source": []
  },
  {
   "cell_type": "code",
   "execution_count": null,
   "metadata": {},
   "outputs": [],
   "source": [
    "import numpy as np\n",
    "import matplotlib.pyplot as plt\n",
    "from matplotlib.animation import FuncAnimation\n",
    "from matplotlib import animation, rc\n",
    "from IPython.display import HTML\n",
    "\n",
    "# ------------------------------------------------\n",
    "state_train = np.zeros([step, FLAGS.state_space+1])\n",
    "\n",
    "# fill arrays\n",
    "for k, experience in enumerate(tempbuffer.buffer):\n",
    "    # [s, a, r, s', a*, d]\n",
    "    state_train[k] = experience[0]\n",
    "    \n",
    "#\n",
    "fig, ax = plt.subplots(figsize=(10,10))\n",
    "plt.rcParams.update({'font.size': 30})\n",
    "x_EE, y_EE = [], []\n",
    "x_Obj, y_Obj = [], []\n",
    "ln_EE, = plt.plot([], [], color=[0.1,0.,0.8], linewidth=6, alpha=0.3)\n",
    "ln_Obj, = plt.plot([], [], color=[0.8, 0.3, 0.], linewidth=6, alpha=0.3)\n",
    "\n",
    "# rectangle ---------------------------------------\n",
    "rectangle = plt.Rectangle((state_train[0,0]+ state_train[0,4]- 0.0075,\n",
    "                       state_train[0,1]+ state_train[0,5]- 0.045- env.offset_COM),\n",
    "                      0.015, 0.09, fc=[0.8, 0.3, 0.])\n",
    "ax.add_patch(rectangle)\n",
    "\n",
    "# COM\n",
    "com_true = plt.Circle((state_train[0,0]+ state_train[0,4],\n",
    "                 state_train[0,1]+ state_train[0,5]- env.offset_COM),\n",
    "                 0.005, fc=[0.6, 0.2, 0.])\n",
    "ax.add_patch(com_true)\n",
    "\n",
    "com = plt.Circle((state_train[0,0]+ state_train[0,4],\n",
    "                 state_train[0,1]+ state_train[0,5]- env.offset_COM),\n",
    "                 0.005, fc='k')\n",
    "ax.add_patch(com)\n",
    "\n",
    "# cylinder\n",
    "cylinder = plt.Circle((state_train[0,0],\n",
    "                        state_train[0,1]),\n",
    "                        0.017, fc=[0.1,0.,0.8])\n",
    "ax.add_patch(cylinder)\n",
    "\n",
    "# ---------------------------------------------------\n",
    "def init():\n",
    "    ax.set_xlim(0, 0.4)\n",
    "    ax.set_ylim(0.08, 0.32)\n",
    "    ax.set_xticks([0., 0.1, 0.2, 0.3, 0.4])\n",
    "    ax.set_yticks([0.1, 0.2, 0.3])\n",
    "    ax.set_xlabel('x [m]')\n",
    "    ax.set_ylabel('y [m]')\n",
    "    ax.set_aspect('equal')\n",
    "    plt.savefig('push_GPTD_initial')\n",
    "    return ln_EE, ln_Obj, rectangle, cylinder, com, com_true\n",
    "\n",
    "# --------------------------------------------------\n",
    "def update(i):\n",
    "    # EE position\n",
    "    x_EE.append(state_train[i,0])\n",
    "    y_EE.append(state_train[i,1])\n",
    "    ln_EE.set_data(x_EE, y_EE)\n",
    "        \n",
    "    # Rectangle position\n",
    "    phi = state_train[i,8]\n",
    "    rotmat = np.array([[np.cos(phi), -np.sin(phi)],\n",
    "                      [np.sin(phi), np.cos(phi)]])\n",
    "    \n",
    "    r_cen_corn = np.dot(rotmat, np.array([0.0075, 0.045+ env.offset_COM]))\n",
    "\n",
    "    \n",
    "    rectangle._angle = (phi/np.pi*180)\n",
    "    rectangle.set_xy([state_train[i,0]+ state_train[i,4]- r_cen_corn[0],\n",
    "                  state_train[i,1]+ state_train[i,5]- r_cen_corn[1]])\n",
    "    \n",
    "    # Obj COM position\n",
    "    r_cen_corn = np.dot(rotmat, np.array([0.0, env.offset_COM]))\n",
    "    com_true.center = (state_train[i,0]+ state_train[i,4]- r_cen_corn[0],\n",
    "                  state_train[i,1]+ state_train[i,5]- r_cen_corn[1])\n",
    "    \n",
    "    x_Obj.append(state_train[i,0]+ state_train[i,4]- r_cen_corn[0])\n",
    "    y_Obj.append(state_train[i,1]+ state_train[i,5]- r_cen_corn[1])\n",
    "    ln_Obj.set_data(x_Obj, y_Obj)\n",
    "    \n",
    "    com.center = (state_train[i,0]+ state_train[i,4],\n",
    "                  state_train[i,1]+ state_train[i,5])\n",
    "    \n",
    "    # EE position\n",
    "    cylinder.center = (state_train[i,0],\n",
    "                       state_train[i,1])\n",
    "\n",
    "    \n",
    "    \n",
    "    return ln_EE, ln_Obj, rectangle, cylinder, com, com_true\n",
    "\n",
    "# --------------------------------------------------\n",
    "ani = FuncAnimation(fig, update, frames=np.arange(len(state_train)),\n",
    "                    init_func=init, interval=200, blit=True)\n",
    "#HTML(ani.to_html5_video())\n",
    "\n",
    "ani.save('push_GPTD.mp4', writer=\"ffmpeg\")\n",
    "fig.show()"
   ]
  }
 ],
 "metadata": {
  "kernelspec": {
   "display_name": "tensorflow",
   "language": "python",
   "name": "tensorflow"
  },
  "language_info": {
   "codemirror_mode": {
    "name": "ipython",
    "version": 2
   },
   "file_extension": ".py",
   "mimetype": "text/x-python",
   "name": "python",
   "nbconvert_exporter": "python",
   "pygments_lexer": "ipython2",
   "version": "2.7.12"
  }
 },
 "nbformat": 4,
 "nbformat_minor": 2
}
