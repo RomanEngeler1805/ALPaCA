{
 "cells": [
  {
   "cell_type": "code",
   "execution_count": 1,
   "metadata": {},
   "outputs": [],
   "source": [
    "import numpy as np\n",
    "import matplotlib.pyplot as plt"
   ]
  },
  {
   "cell_type": "code",
   "execution_count": 24,
   "metadata": {},
   "outputs": [],
   "source": [
    "class system_dynamics:\n",
    "    # use Euler forward to step in time\n",
    "    \n",
    "    def __init__(self):\n",
    "        # robot arm\n",
    "        self.mass_arm = 0.2\n",
    "        self.radius = 0.01\n",
    "        \n",
    "        # object\n",
    "        self.mass_object = 0.02\n",
    "        self.length = 0.05\n",
    "        self.width = 0.02\n",
    "        \n",
    "        # controller\n",
    "        self.kp = 10.\n",
    "        self.kd = 1.\n",
    "        \n",
    "        # reset\n",
    "        self.reset()\n",
    "        \n",
    "    def reset(self):\n",
    "        # initial position (x, y, theta)\n",
    "        self.pos_arm = np.array([0., 0., 0.])\n",
    "        self.pos_object = np.array([self.radius+ self.width/2., 0, np.pi/2.])\n",
    "        \n",
    "        # initial velocity\n",
    "        self.vel_arm = np.array([0., 0., 0.])\n",
    "        self.vel_object = np.array([0., 0., 0.])\n",
    "        \n",
    "        # initial acceleration\n",
    "        self.acc_arm = np.array([0., 0., 0.])\n",
    "        self.acc_object = np.array([0., 0., 0.])\n",
    "    \n",
    "    def simulate(self, des_vel_arm):\n",
    "        # acceleration of arm\n",
    "        # neglect contact forces since F_contact << F_arm\n",
    "        I_ax_arm = 1./ self.mass_arm* (self.kp* (des_vel_arm[0]- self.vel_arm[0])- self.kd* self.acc_arm[0])\n",
    "        I_ay_arm = 1./ self.mass_arm* (self.kp* (des_vel_arm[1]- self.vel_arm[1])- self.kd* self.acc_arm[1])\n",
    "        \n",
    "        I_a_arm = np.array([I_ax_arm, I_ay_arm])\n",
    "        \n",
    "        # obtain rotation matrix\n",
    "        R_IO = np.array([[np.cos(self.pos_object[2]), np.sin(self.pos_object[2])],\n",
    "                         [-np.sin(self.pos_object[2]), np.cos(self.pos_object[2])]])\n",
    "        \n",
    "        # transform acceleration of arm into body frame of object\n",
    "        B_a_arm = np.dot(R_IO, I_a_arm)\n",
    "        \n",
    "        # hard constraint -> same acceleration perpendicular to contact surface\n",
    "        B_ax_obj = B_a_arm[0]\n",
    "        \n",
    "        # "
   ]
  },
  {
   "cell_type": "code",
   "execution_count": 25,
   "metadata": {},
   "outputs": [
    {
     "data": {
      "text/plain": [
       "array([5.000000e+01, 3.061617e-15])"
      ]
     },
     "execution_count": 25,
     "metadata": {},
     "output_type": "execute_result"
    }
   ],
   "source": [
    "push = system_dynamics()\n",
    "push.simulate(np.array([0., 1.]))"
   ]
  },
  {
   "cell_type": "code",
   "execution_count": null,
   "metadata": {},
   "outputs": [],
   "source": []
  }
 ],
 "metadata": {
  "kernelspec": {
   "display_name": "tensorflow",
   "language": "python",
   "name": "tensorflow"
  },
  "language_info": {
   "codemirror_mode": {
    "name": "ipython",
    "version": 2
   },
   "file_extension": ".py",
   "mimetype": "text/x-python",
   "name": "python",
   "nbconvert_exporter": "python",
   "pygments_lexer": "ipython2",
   "version": "2.7.12"
  }
 },
 "nbformat": 4,
 "nbformat_minor": 2
}
